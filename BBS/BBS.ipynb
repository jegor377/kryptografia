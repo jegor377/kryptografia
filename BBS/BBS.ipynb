{
 "cells": [
  {
   "cell_type": "markdown",
   "id": "8bb97134-3ad5-431a-808e-4f5c969f35c4",
   "metadata": {},
   "source": [
    "# Generowanie ciągu S (bits)"
   ]
  },
  {
   "cell_type": "code",
   "execution_count": 1,
   "id": "f7b2cbc9-f1f0-4bc4-832c-523f70b2fa0b",
   "metadata": {},
   "outputs": [],
   "source": [
    "import sympy\n",
    "\n",
    "primes = sympy.primerange(1_000, 10_000)"
   ]
  },
  {
   "cell_type": "code",
   "execution_count": 2,
   "id": "d6df5aaf-8c7f-4278-894b-28a0c330ee72",
   "metadata": {},
   "outputs": [],
   "source": [
    "congruent_primes = [prime for prime in primes if prime % 4 == 3]"
   ]
  },
  {
   "cell_type": "code",
   "execution_count": 3,
   "id": "e5f77b13-8aae-42dc-831b-0989ef1d4f14",
   "metadata": {},
   "outputs": [
    {
     "data": {
      "text/plain": [
       "(6863, 5651)"
      ]
     },
     "execution_count": 3,
     "metadata": {},
     "output_type": "execute_result"
    }
   ],
   "source": [
    "import random\n",
    "\n",
    "p, q = random.sample(congruent_primes, 2)\n",
    "p, q"
   ]
  },
  {
   "cell_type": "code",
   "execution_count": 4,
   "id": "9644e6e9-25b7-418e-88d3-376fb733f10f",
   "metadata": {},
   "outputs": [
    {
     "data": {
      "text/plain": [
       "38782813"
      ]
     },
     "execution_count": 4,
     "metadata": {},
     "output_type": "execute_result"
    }
   ],
   "source": [
    "N = p * q\n",
    "N"
   ]
  },
  {
   "cell_type": "code",
   "execution_count": 5,
   "id": "e0d29dca-8572-4ea1-a54c-0dc096ca5a0c",
   "metadata": {},
   "outputs": [],
   "source": [
    "import math\n",
    "\n",
    "# szukaj liczby relatywnie pierwszej tak długo aż się uda.\n",
    "# ponieważ p * q daje ogromną liczbę przy założeniu, że p i q są liczbami 4-cyfrowymi\n",
    "# to znalezienie takiej liczby powinno być bardzo łatwe i szybkie\n",
    "def next_random_coprime_of(n):\n",
    "    if n == 0 or n == 1:\n",
    "        raise ValueError(\"Cannot find coprime of 0 or 1.\")\n",
    "    while True:\n",
    "        random_coprime = random.randint(1, n - 1)\n",
    "        while math.gcd(random_coprime, n) != 1 and random_coprime < n:\n",
    "            random_coprime += 1\n",
    "        if random_coprime != n:\n",
    "            return random_coprime"
   ]
  },
  {
   "cell_type": "code",
   "execution_count": 6,
   "id": "9de89390-ab5c-4dc7-abad-51fffafa1757",
   "metadata": {},
   "outputs": [
    {
     "data": {
      "text/plain": [
       "2821980"
      ]
     },
     "execution_count": 6,
     "metadata": {},
     "output_type": "execute_result"
    }
   ],
   "source": [
    "x = next_random_coprime_of(N)\n",
    "x"
   ]
  },
  {
   "cell_type": "code",
   "execution_count": 7,
   "id": "56a42b79-8d10-4303-8048-5cbef230c0bf",
   "metadata": {},
   "outputs": [
    {
     "data": {
      "text/plain": [
       "24647419"
      ]
     },
     "execution_count": 7,
     "metadata": {},
     "output_type": "execute_result"
    }
   ],
   "source": [
    "x0 = pow(x, 2, N)\n",
    "x0"
   ]
  },
  {
   "cell_type": "code",
   "execution_count": 8,
   "id": "b10fca9f-76ac-4263-a7b9-b8e109002f6f",
   "metadata": {},
   "outputs": [],
   "source": [
    "bits = []\n",
    "xi = x0\n",
    "for i in range(20_000):\n",
    "    xi = pow(xi, 2, N)\n",
    "    bits.append(xi & 1)"
   ]
  },
  {
   "cell_type": "markdown",
   "id": "685ed464-524a-415e-9d13-af2329a4c830",
   "metadata": {},
   "source": [
    "# Testy"
   ]
  },
  {
   "cell_type": "code",
   "execution_count": 9,
   "id": "3af71803-246a-45c8-929e-85542d448e76",
   "metadata": {},
   "outputs": [],
   "source": [
    "def test_result(name, passed):\n",
    "    print(f\"{name}: {'ZDANY' if passed else 'NIEZDANY'}\")"
   ]
  },
  {
   "cell_type": "markdown",
   "id": "a020b6a1-0cda-44ea-987a-895a527ce65a",
   "metadata": {},
   "source": [
    "## Test pojedynczych bitów"
   ]
  },
  {
   "cell_type": "code",
   "execution_count": 10,
   "id": "1ff77171-b531-4761-951b-1c28ecc39ea4",
   "metadata": {},
   "outputs": [
    {
     "name": "stdout",
     "output_type": "stream",
     "text": [
      "Test pojedynczych bitów: ZDANY\n"
     ]
    }
   ],
   "source": [
    "from collections import Counter\n",
    "\n",
    "counts = Counter(bits)\n",
    "test1_passed = 9725 < counts[1] and counts[1] < 10275\n",
    "test_result(\"Test pojedynczych bitów\", test1_passed)"
   ]
  },
  {
   "cell_type": "markdown",
   "id": "f8d662d1-5ef4-4147-bb5a-1713aea3d6f0",
   "metadata": {},
   "source": [
    "## Test serii"
   ]
  },
  {
   "cell_type": "code",
   "execution_count": 11,
   "id": "6f106e6d-3795-43c2-b35d-edb64cfddf26",
   "metadata": {},
   "outputs": [],
   "source": [
    "def calc_sequences(bits):\n",
    "    seqs_of_zero = {}\n",
    "    seqs_of_one = {}\n",
    "    seqs_of_zero_capped = {}\n",
    "    seqs_of_one_capped = {}\n",
    "\n",
    "    i = 0\n",
    "    sl = 1\n",
    "    sb = -1\n",
    "    while i < len(bits):\n",
    "        if bits[i] == sb:\n",
    "            sl += 1\n",
    "        else:\n",
    "            if sb == 0:\n",
    "                if not sl in seqs_of_zero:\n",
    "                    seqs_of_zero[sl] = 0\n",
    "                seqs_of_zero[sl] += 1\n",
    "                if sl >= 6:\n",
    "                    sl = 6\n",
    "                if not sl in seqs_of_zero_capped:\n",
    "                    seqs_of_zero_capped[sl] = 0\n",
    "                seqs_of_zero_capped[sl] += 1\n",
    "            elif sb == 1:\n",
    "                if not sl in seqs_of_one:\n",
    "                    seqs_of_one[sl] = 0\n",
    "                seqs_of_one[sl] += 1\n",
    "                if sl >= 6:\n",
    "                    sl = 6\n",
    "                if not sl in seqs_of_one_capped:\n",
    "                    seqs_of_one_capped[sl] = 0\n",
    "                seqs_of_one_capped[sl] += 1\n",
    "            sb = bits[i]\n",
    "            sl = 1\n",
    "        i += 1\n",
    "    return Counter(seqs_of_zero), Counter(seqs_of_one), Counter(seqs_of_zero_capped), Counter(seqs_of_one_capped)"
   ]
  },
  {
   "cell_type": "code",
   "execution_count": 12,
   "id": "784e2934-1785-4453-a17e-faf605aa1f34",
   "metadata": {},
   "outputs": [
    {
     "name": "stdout",
     "output_type": "stream",
     "text": [
      "Counter({1: 2450, 2: 1282, 3: 632, 4: 326, 6: 170, 5: 134})\n",
      "Test serii: ZDANY\n"
     ]
    }
   ],
   "source": [
    "seq_counts_zero, seq_counts_one, seq_counts_zero_capped, _ = calc_sequences(bits)\n",
    "print(seq_counts_zero_capped)\n",
    "test2_passed = sum([\n",
    "    2315 <= seq_counts_zero_capped[1] and seq_counts_zero_capped[1] <= 2685,\n",
    "    1114 <= seq_counts_zero_capped[2] and seq_counts_zero_capped[2] <= 1386,\n",
    "    527 <= seq_counts_zero_capped[3] and seq_counts_zero_capped[3] <= 723,\n",
    "    240 <= seq_counts_zero_capped[4] and seq_counts_zero_capped[4] <= 384,\n",
    "    103 <= seq_counts_zero_capped[5] and seq_counts_zero_capped[5] <= 209,\n",
    "    103 <= seq_counts_zero_capped[6] and seq_counts_zero_capped[6] <= 209\n",
    "]) == 6\n",
    "test_result(\"Test serii\", test2_passed)"
   ]
  },
  {
   "cell_type": "markdown",
   "id": "6759ba22-db5b-4ac6-8a7b-b9ec60c5fa77",
   "metadata": {},
   "source": [
    "## Test długiej serii"
   ]
  },
  {
   "cell_type": "code",
   "execution_count": 13,
   "id": "20e97af7-dc36-4ee6-84fa-fd73914a98f4",
   "metadata": {},
   "outputs": [
    {
     "name": "stdout",
     "output_type": "stream",
     "text": [
      "Test długiej serii: ZDANY\n"
     ]
    }
   ],
   "source": [
    "test3_passed = len([c for c in seq_counts_zero if c >= 26]) == 0 and len([c for c in seq_counts_one if c >= 26]) == 0\n",
    "test_result(\"Test długiej serii\", test3_passed)"
   ]
  },
  {
   "cell_type": "markdown",
   "id": "b3dc6003-4b61-4d98-ba2a-d5010dfb0424",
   "metadata": {},
   "source": [
    "## Test pokerowy"
   ]
  },
  {
   "cell_type": "code",
   "execution_count": 14,
   "id": "44bb3546-aa09-4fa1-9050-e3eb969d4d5c",
   "metadata": {},
   "outputs": [
    {
     "name": "stdout",
     "output_type": "stream",
     "text": [
      "X = 27.558399999999892\n",
      "Test pokerowy: ZDANY\n"
     ]
    }
   ],
   "source": [
    "segments_counts = Counter()\n",
    "\n",
    "for i in range(0, len(bits), 4):\n",
    "    four_bits = bits[i:i+4]\n",
    "    num = ''.join(map(str, four_bits))\n",
    "    segments_counts[num] += 1\n",
    "\n",
    "X = (16/5000) * sum([i * i for i in segments_counts.values()]) - 5000\n",
    "\n",
    "print(f\"X = {X}\")\n",
    "test4_passed = 2.16 <= X and X <= 46.17\n",
    "test_result(\"Test pokerowy\", test4_passed)"
   ]
  },
  {
   "cell_type": "markdown",
   "id": "28fcf357-889c-406e-9c31-040df8f22657",
   "metadata": {},
   "source": [
    "## Wyniki testów"
   ]
  },
  {
   "cell_type": "code",
   "execution_count": 15,
   "id": "3461e1ab-acc2-4644-a5cf-015e10432f18",
   "metadata": {},
   "outputs": [
    {
     "name": "stdout",
     "output_type": "stream",
     "text": [
      "Test pojedynczych bitów: ZDANY\n",
      "Test serii: ZDANY\n",
      "Test długiej serii: ZDANY\n",
      "Test pokerowy: ZDANY\n"
     ]
    }
   ],
   "source": [
    "test_result(\"Test pojedynczych bitów\", test1_passed)\n",
    "test_result(\"Test serii\", test2_passed)\n",
    "test_result(\"Test długiej serii\", test3_passed)\n",
    "test_result(\"Test pokerowy\", test4_passed)"
   ]
  }
 ],
 "metadata": {
  "kernelspec": {
   "display_name": "Python 3 (ipykernel)",
   "language": "python",
   "name": "python3"
  },
  "language_info": {
   "codemirror_mode": {
    "name": "ipython",
    "version": 3
   },
   "file_extension": ".py",
   "mimetype": "text/x-python",
   "name": "python",
   "nbconvert_exporter": "python",
   "pygments_lexer": "ipython3",
   "version": "3.10.15"
  }
 },
 "nbformat": 4,
 "nbformat_minor": 5
}
