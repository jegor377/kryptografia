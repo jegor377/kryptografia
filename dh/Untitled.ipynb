{
 "cells": [
  {
   "cell_type": "code",
   "execution_count": 66,
   "id": "f721ac10-fb15-4527-b08b-952a8021d3f1",
   "metadata": {},
   "outputs": [],
   "source": [
    "from sympy import primitive_root, nextprime\n",
    "import random\n",
    "from IPython.display import display, Markdown"
   ]
  },
  {
   "cell_type": "markdown",
   "id": "2474e2fc-909e-46b1-ac25-59f9647b3746",
   "metadata": {},
   "source": [
    "# Wersja dla dwóch użytkowników"
   ]
  },
  {
   "cell_type": "markdown",
   "id": "4b16386e-8009-442b-b353-3199938e09d1",
   "metadata": {},
   "source": [
    "## A i B uzgadniają jawnie $n$ i $g$"
   ]
  },
  {
   "cell_type": "code",
   "execution_count": 67,
   "id": "6d73928b-b881-45a0-9409-3cf10e7a7841",
   "metadata": {},
   "outputs": [
    {
     "name": "stdout",
     "output_type": "stream",
     "text": [
      "p = 27847, g = 6\n"
     ]
    }
   ],
   "source": [
    "p = nextprime(random.randint(10_000, 100_000))\n",
    "g = primitive_root(p)\n",
    "print(f'p = {p}, g = {g}')"
   ]
  },
  {
   "cell_type": "markdown",
   "id": "be9641bf-dafc-46a2-a2ff-c7daefc03deb",
   "metadata": {},
   "source": [
    "## A losuje prywatne $x$ i oblicza publiczne $X$"
   ]
  },
  {
   "cell_type": "code",
   "execution_count": 68,
   "id": "c432424c-e7ab-497d-9aac-f9848c6f4a8b",
   "metadata": {},
   "outputs": [
    {
     "name": "stdout",
     "output_type": "stream",
     "text": [
      "A: x = 78672, X = 9862\n"
     ]
    }
   ],
   "source": [
    "x = random.randint(10_000, 100_000)\n",
    "X = pow(g, x, p)\n",
    "\n",
    "print(f'A: x = {x}, X = {X}')"
   ]
  },
  {
   "cell_type": "markdown",
   "id": "47301870-776e-402d-ac64-905877de61df",
   "metadata": {},
   "source": [
    "## B losuje prywatne $y$ i oblicza publiczne $Y$"
   ]
  },
  {
   "cell_type": "code",
   "execution_count": 69,
   "id": "414dbfa6-b5ec-4927-a709-3be8a69f7a66",
   "metadata": {},
   "outputs": [
    {
     "name": "stdout",
     "output_type": "stream",
     "text": [
      "B: y = 19095, Y = 11756\n"
     ]
    }
   ],
   "source": [
    "y = random.randint(10_000, 100_000)\n",
    "Y = pow(g, y, p)\n",
    "\n",
    "print(f'B: y = {y}, Y = {Y}')"
   ]
  },
  {
   "cell_type": "markdown",
   "id": "6c3d8455-4e00-4bf8-8269-eff79c2d73d6",
   "metadata": {},
   "source": [
    "## A i B przesyłają do siebie nawzajem obliczone X i Y."
   ]
  },
  {
   "cell_type": "markdown",
   "id": "0a11ac9f-a4c7-4a4a-bcd0-26e19aeb7113",
   "metadata": {},
   "source": [
    "## A oblicza wspólny klucz sesji"
   ]
  },
  {
   "cell_type": "code",
   "execution_count": 70,
   "id": "7fa3cb66-5803-40b9-8afc-84b8b0aef3fa",
   "metadata": {},
   "outputs": [
    {
     "name": "stdout",
     "output_type": "stream",
     "text": [
      "klucz sesji A = 609\n"
     ]
    }
   ],
   "source": [
    "kA = pow(Y, x, p)\n",
    "print(f\"klucz sesji A = {kA}\")"
   ]
  },
  {
   "cell_type": "markdown",
   "id": "f87efa05-60f9-466b-984a-adc959bd7dd6",
   "metadata": {},
   "source": [
    "## B oblicza wspólny klucz sesji"
   ]
  },
  {
   "cell_type": "code",
   "execution_count": 71,
   "id": "f1a17e7e-0dce-4397-ac0d-bb42306db728",
   "metadata": {},
   "outputs": [
    {
     "name": "stdout",
     "output_type": "stream",
     "text": [
      "klucz sesji B = 609\n"
     ]
    }
   ],
   "source": [
    "kB = pow(X, y, p)\n",
    "print(f\"klucz sesji B = {kB}\")"
   ]
  },
  {
   "cell_type": "markdown",
   "id": "3f2ba9a7-09ef-414a-8401-4443edfa2d24",
   "metadata": {},
   "source": [
    "## Test kluczy sesji A i B"
   ]
  },
  {
   "cell_type": "code",
   "execution_count": 91,
   "id": "3fb5209a-a3e9-4be3-a4e1-daf4748165cb",
   "metadata": {},
   "outputs": [
    {
     "data": {
      "text/markdown": [
       "Klucze są **<font color=#32CD32>takie same</font>**!"
      ],
      "text/plain": [
       "<IPython.core.display.Markdown object>"
      ]
     },
     "metadata": {},
     "output_type": "display_data"
    }
   ],
   "source": [
    "display(Markdown(f\"Klucze są **{'<font color=#32CD32>takie same</font>' if kA == kB else '<font color=red>różne</font>'}**!\")) "
   ]
  },
  {
   "cell_type": "markdown",
   "id": "12d81efe-c725-48fb-9ad8-97b84b7dee0a",
   "metadata": {},
   "source": [
    "# Wersja dla grupy użytkowników"
   ]
  },
  {
   "cell_type": "markdown",
   "id": "3e0de8ba-9419-4a7f-b751-aa9f147ce056",
   "metadata": {},
   "source": [
    "## A, B i C ustalają liczby $p$ i $g$"
   ]
  },
  {
   "cell_type": "code",
   "execution_count": 73,
   "id": "47cbdf4f-fe0a-4983-915f-df63f0b1aa4d",
   "metadata": {},
   "outputs": [
    {
     "name": "stdout",
     "output_type": "stream",
     "text": [
      "p = 85991, g = 11\n"
     ]
    }
   ],
   "source": [
    "p = nextprime(random.randint(10_000, 100_000))\n",
    "g = primitive_root(p)\n",
    "print(f'p = {p}, g = {g}')"
   ]
  },
  {
   "cell_type": "markdown",
   "id": "1a282df2-8c53-4ea4-8e8c-2284e00caa94",
   "metadata": {},
   "source": [
    "## A losuje prywatne $x$ i oblicza publiczne $X$"
   ]
  },
  {
   "cell_type": "code",
   "execution_count": 74,
   "id": "6ebe5aa8-3688-4fdc-acfc-93fb4c89a874",
   "metadata": {},
   "outputs": [
    {
     "name": "stdout",
     "output_type": "stream",
     "text": [
      "A: x = 31763, X = 74580\n"
     ]
    }
   ],
   "source": [
    "x = random.randint(10_000, 100_000)\n",
    "X = pow(g, x, p)\n",
    "\n",
    "print(f'A: x = {x}, X = {X}')"
   ]
  },
  {
   "cell_type": "markdown",
   "id": "faf95c01-26db-4bbe-b2f0-31c04a83f948",
   "metadata": {},
   "source": [
    "## B losuje prywatne $y$ i oblicza publiczne $Y$"
   ]
  },
  {
   "cell_type": "code",
   "execution_count": 75,
   "id": "4c36b623-b941-4cb0-b97f-29ab18d66e2b",
   "metadata": {},
   "outputs": [
    {
     "name": "stdout",
     "output_type": "stream",
     "text": [
      "B: y = 24871, Y = 16457\n"
     ]
    }
   ],
   "source": [
    "y = random.randint(10_000, 100_000)\n",
    "Y = pow(g, y, p)\n",
    "\n",
    "print(f'B: y = {y}, Y = {Y}')"
   ]
  },
  {
   "cell_type": "markdown",
   "id": "f4fe0941-eae3-4841-babc-280cde27e93a",
   "metadata": {},
   "source": [
    "## C losuje prywatne $z$ i oblicza publiczne $Z$"
   ]
  },
  {
   "cell_type": "code",
   "execution_count": 76,
   "id": "b873b55d-1879-4d3a-9669-e7f49bd59bfc",
   "metadata": {},
   "outputs": [
    {
     "name": "stdout",
     "output_type": "stream",
     "text": [
      "C: z = 67163, Z = 24278\n"
     ]
    }
   ],
   "source": [
    "z = random.randint(10_000, 100_000)\n",
    "Z = pow(g, z, p)\n",
    "\n",
    "print(f'C: z = {z}, Z = {Z}')"
   ]
  },
  {
   "cell_type": "markdown",
   "id": "d155205d-52bf-4683-a565-63d3bb4c2e39",
   "metadata": {},
   "source": [
    "## A wysyła $X$ do B, B wysyła $Y$ do C, a C wysyła $Z$ do A"
   ]
  },
  {
   "cell_type": "markdown",
   "id": "5805c624-9708-410b-b0c1-be77cbeeab9c",
   "metadata": {},
   "source": [
    "## A oblicza $Z'$ z użyciem prywatnego $x$"
   ]
  },
  {
   "cell_type": "code",
   "execution_count": 77,
   "id": "26498117-7ee6-457e-8b4c-41b54affa805",
   "metadata": {},
   "outputs": [
    {
     "data": {
      "text/plain": [
       "25007"
      ]
     },
     "execution_count": 77,
     "metadata": {},
     "output_type": "execute_result"
    }
   ],
   "source": [
    "Zp = pow(Z, x, p)\n",
    "Zp"
   ]
  },
  {
   "cell_type": "markdown",
   "id": "b69857f3-919d-4a2b-9d6f-87ccad10d432",
   "metadata": {},
   "source": [
    "## B oblicza $X'$ z użyciem prywatnego $y$"
   ]
  },
  {
   "cell_type": "code",
   "execution_count": 78,
   "id": "1f133780-79d9-4907-9fa2-688e69e1ccf0",
   "metadata": {},
   "outputs": [
    {
     "data": {
      "text/plain": [
       "19077"
      ]
     },
     "execution_count": 78,
     "metadata": {},
     "output_type": "execute_result"
    }
   ],
   "source": [
    "Xp = pow(X, y, p)\n",
    "Xp"
   ]
  },
  {
   "cell_type": "markdown",
   "id": "6bea30e1-3460-4068-a6b7-1472f4b44e76",
   "metadata": {},
   "source": [
    "## C oblicza $Y'$ z użyciem prywatnego $z$"
   ]
  },
  {
   "cell_type": "code",
   "execution_count": 79,
   "id": "5429aa91-4006-4aa8-8621-8640370f8ccd",
   "metadata": {},
   "outputs": [
    {
     "data": {
      "text/plain": [
       "48603"
      ]
     },
     "execution_count": 79,
     "metadata": {},
     "output_type": "execute_result"
    }
   ],
   "source": [
    "Yp = pow(Y, z, p)\n",
    "Yp"
   ]
  },
  {
   "cell_type": "markdown",
   "id": "5332b5ae-4469-4eca-9f93-2828796ab5b7",
   "metadata": {},
   "source": [
    "## A wysyła $Z'$ do B, B wysyła $X'$ do C, a C wysyła $Y'$ do A"
   ]
  },
  {
   "cell_type": "markdown",
   "id": "e1008eed-9325-4c1f-b979-cc38d1205cf5",
   "metadata": {},
   "source": [
    "## A oblicza klucz sesji"
   ]
  },
  {
   "cell_type": "code",
   "execution_count": 80,
   "id": "2808cfc7-93a7-45f2-b992-64a8b6ba3c2e",
   "metadata": {},
   "outputs": [
    {
     "name": "stdout",
     "output_type": "stream",
     "text": [
      "Klucz sesji A = 80564\n"
     ]
    }
   ],
   "source": [
    "kA = pow(Yp, x, p)\n",
    "print(f'Klucz sesji A = {kA}')"
   ]
  },
  {
   "cell_type": "markdown",
   "id": "9c470702-ff30-4da8-802a-4265d93e11ef",
   "metadata": {},
   "source": [
    "## B oblicza klucz sesji"
   ]
  },
  {
   "cell_type": "code",
   "execution_count": 81,
   "id": "8da3300f-2909-4e06-801d-720cc4f2f8c3",
   "metadata": {},
   "outputs": [
    {
     "name": "stdout",
     "output_type": "stream",
     "text": [
      "Klucz sesji B = 80564\n"
     ]
    }
   ],
   "source": [
    "kB = pow(Zp, y, p)\n",
    "print(f'Klucz sesji B = {kB}')"
   ]
  },
  {
   "cell_type": "markdown",
   "id": "c1db8136-a962-45a7-b40c-ce343779a35c",
   "metadata": {},
   "source": [
    "## C oblicza klucz sesji"
   ]
  },
  {
   "cell_type": "code",
   "execution_count": 82,
   "id": "5850b3bd-e873-44ec-bc60-13d3c9da3467",
   "metadata": {},
   "outputs": [
    {
     "name": "stdout",
     "output_type": "stream",
     "text": [
      "Klucz sesji C = 80564\n"
     ]
    }
   ],
   "source": [
    "kC = pow(Xp, z, p)\n",
    "print(f'Klucz sesji C = {kC}')"
   ]
  },
  {
   "cell_type": "markdown",
   "id": "aab4d329-2023-4838-a15f-af63323a77b6",
   "metadata": {},
   "source": [
    "## Test klucza sesji A, B i C"
   ]
  },
  {
   "cell_type": "code",
   "execution_count": 90,
   "id": "d4a1a775-a3af-416e-9fe6-a101e2cc6390",
   "metadata": {},
   "outputs": [
    {
     "data": {
      "text/markdown": [
       "Klucze A, B i C są **<font color='#32CD32'>takie same</font>**!"
      ],
      "text/plain": [
       "<IPython.core.display.Markdown object>"
      ]
     },
     "metadata": {},
     "output_type": "display_data"
    }
   ],
   "source": [
    "display(Markdown(\"Klucze A, B i C są **\" + (\"<font color='#32CD32'>takie same</font>\" if kA == kB and kB == kC else \"<font color='red'>różne</font>\" ) + \"**!\"))"
   ]
  },
  {
   "cell_type": "code",
   "execution_count": null,
   "id": "ca36fa31-1662-44db-aa48-b0a44a88a39b",
   "metadata": {},
   "outputs": [],
   "source": []
  }
 ],
 "metadata": {
  "kernelspec": {
   "display_name": "Python 3 (ipykernel)",
   "language": "python",
   "name": "python3"
  },
  "language_info": {
   "codemirror_mode": {
    "name": "ipython",
    "version": 3
   },
   "file_extension": ".py",
   "mimetype": "text/x-python",
   "name": "python",
   "nbconvert_exporter": "python",
   "pygments_lexer": "ipython3",
   "version": "3.12.4"
  }
 },
 "nbformat": 4,
 "nbformat_minor": 5
}
