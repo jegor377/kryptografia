{
 "cells": [
  {
   "cell_type": "code",
   "execution_count": 1,
   "id": "47c9972c-3766-4ba2-a20c-c4bf57f429de",
   "metadata": {},
   "outputs": [],
   "source": [
    "import os\n",
    "from cryptography.hazmat.primitives import padding\n",
    "from cryptography.hazmat.primitives.ciphers import Cipher\n",
    "from cryptography.hazmat.primitives.ciphers.algorithms import AES\n",
    "from cryptography.hazmat.primitives.ciphers.modes import ECB, CBC, CTR\n",
    "from PIL import Image\n",
    "import numpy as np\n",
    "import time\n",
    "from tqdm import tqdm\n",
    "import copy\n",
    "from random import randrange, randint\n",
    "from IPython.display import Image as show_image"
   ]
  },
  {
   "cell_type": "markdown",
   "id": "a6d74212-2147-46bc-8a91-90ddee8ef657",
   "metadata": {},
   "source": [
    "# Przykład"
   ]
  },
  {
   "cell_type": "code",
   "execution_count": 2,
   "id": "18dfd6f5-f17f-4dd1-8463-7fa0d328400e",
   "metadata": {},
   "outputs": [
    {
     "name": "stdout",
     "output_type": "stream",
     "text": [
      "Plaintext (34): b'Fundamental Cryptography in Python'\n"
     ]
    }
   ],
   "source": [
    "plaintext = b'Fundamental Cryptography in Python'\n",
    "print(f\"Plaintext ({len(plaintext)}): {plaintext}\")"
   ]
  },
  {
   "cell_type": "code",
   "execution_count": 3,
   "id": "498c5792-ab26-4ada-80d5-d1a0e70174d8",
   "metadata": {},
   "outputs": [
    {
     "name": "stdout",
     "output_type": "stream",
     "text": [
      "b'\\x9b\\r6\\x10\"$8g\\xe4\\xc9~\\x9dL\\xe0\\xa7\\x83\\x9e\\xee\\x18;3\\x91\\xe1\\xb9\\xfd\\xa9\\x10\\xc0\\x18\\x81\\x99G'\n",
      "32\n"
     ]
    }
   ],
   "source": [
    "# 256-bit symmetric key\n",
    "key = os.urandom(32)\n",
    "print(key)\n",
    "print(len(key))"
   ]
  },
  {
   "cell_type": "code",
   "execution_count": 4,
   "id": "d864d755-911a-4e95-a3b1-cf3205b87244",
   "metadata": {},
   "outputs": [],
   "source": [
    "# AES ECB cipher\n",
    "aes_ecb_cipher = Cipher(AES(key), ECB())"
   ]
  },
  {
   "cell_type": "code",
   "execution_count": 5,
   "id": "7e67f5f1-218a-4579-9f86-708af65e36bd",
   "metadata": {},
   "outputs": [
    {
     "name": "stdout",
     "output_type": "stream",
     "text": [
      "Ciphertext (no padding) (32): b'kBs\\xd2\\x94\\x18\\x93\\x9a|\\x86\\x1cSZ\\x82\\xca<\\xb6\\x9cG\\x17\\xbf\\xb8\\xc3\\x91a\\xe3\\xa3\\x93\\xc8\\x01R\\xe8'\n"
     ]
    }
   ],
   "source": [
    "# Encrypt without padding\n",
    "ciphertext = aes_ecb_cipher.encryptor().update(plaintext)\n",
    "print(f\"Ciphertext (no padding) ({len(ciphertext)}): {ciphertext}\")"
   ]
  },
  {
   "cell_type": "code",
   "execution_count": 6,
   "id": "743e9ea6-8d87-4dc8-a1f7-3ecfd7feab5e",
   "metadata": {},
   "outputs": [
    {
     "name": "stdout",
     "output_type": "stream",
     "text": [
      "Recovered plaintext (no padding) (32): b'Fundamental Cryptography in Pyth'\n"
     ]
    }
   ],
   "source": [
    "# Decrypt without padding\n",
    "recovered_plaintext = aes_ecb_cipher.decryptor().update(ciphertext)\n",
    "print(f\"Recovered plaintext (no padding) ({len(recovered_plaintext)}): {recovered_plaintext}\")"
   ]
  },
  {
   "cell_type": "code",
   "execution_count": 7,
   "id": "6c5f1afb-0378-484a-b850-51e06663b10f",
   "metadata": {},
   "outputs": [
    {
     "name": "stdout",
     "output_type": "stream",
     "text": [
      "Padded plaintext: b'Fundamental Cryptography in Python\\x0e\\x0e\\x0e\\x0e\\x0e\\x0e\\x0e\\x0e\\x0e\\x0e\\x0e\\x0e\\x0e\\x0e'\n"
     ]
    }
   ],
   "source": [
    "# Pad the plaintext\n",
    "aes_block_size_in_bits = 128\n",
    "pkcs7_padder = padding.PKCS7(aes_block_size_in_bits).padder()\n",
    "padded_plaintext = pkcs7_padder.update(plaintext) + pkcs7_padder.finalize()\n",
    "print(f\"Padded plaintext: {padded_plaintext}\")"
   ]
  },
  {
   "cell_type": "code",
   "execution_count": 8,
   "id": "54a42de3-c7e8-4040-80d8-e11323edb7e9",
   "metadata": {},
   "outputs": [
    {
     "name": "stdout",
     "output_type": "stream",
     "text": [
      "Ciphertext (48): b'kBs\\xd2\\x94\\x18\\x93\\x9a|\\x86\\x1cSZ\\x82\\xca<\\xb6\\x9cG\\x17\\xbf\\xb8\\xc3\\x91a\\xe3\\xa3\\x93\\xc8\\x01R\\xe8,\\x82\\xe0\\x19\\xee\\n\\x8c\\xc9\\x93\\xc9\\x19\\xe6\\xd5\\x8c\\xd3\\xed'\n"
     ]
    }
   ],
   "source": [
    "# Encrypt with padding\n",
    "ciphertext = aes_ecb_cipher.encryptor().update(padded_plaintext)\n",
    "print(f\"Ciphertext ({len(ciphertext)}): {ciphertext}\")"
   ]
  },
  {
   "cell_type": "code",
   "execution_count": 9,
   "id": "963f61ac-f4b3-4990-9cf8-e15a6c10d32a",
   "metadata": {},
   "outputs": [
    {
     "name": "stdout",
     "output_type": "stream",
     "text": [
      "Recovered plaintext + padding: b'Fundamental Cryptography in Python\\x0e\\x0e\\x0e\\x0e\\x0e\\x0e\\x0e\\x0e\\x0e\\x0e\\x0e\\x0e\\x0e\\x0e'\n"
     ]
    }
   ],
   "source": [
    "# Decrypt with padding\n",
    "recovered_plaintext_with_padding = aes_ecb_cipher.decryptor().update(ciphertext)\n",
    "print(f\"Recovered plaintext + padding: {recovered_plaintext_with_padding}\")"
   ]
  },
  {
   "cell_type": "code",
   "execution_count": 10,
   "id": "f8af4c01-3dec-4b48-8909-cf4fe4ba356d",
   "metadata": {},
   "outputs": [
    {
     "name": "stdout",
     "output_type": "stream",
     "text": [
      "Recovered plaintext: b'Fundamental Cryptography in Python'\n"
     ]
    }
   ],
   "source": [
    "pkcs7_unpadder = padding.PKCS7(aes_block_size_in_bits).unpadder()\n",
    "recovered_plaintext = pkcs7_unpadder.update(recovered_plaintext_with_padding) + pkcs7_unpadder.finalize()\n",
    "print(f\"Recovered plaintext: {recovered_plaintext}\")\n",
    "assert (plaintext == recovered_plaintext)"
   ]
  },
  {
   "cell_type": "markdown",
   "id": "837a4f45-a3d6-4047-bf69-8b2ae27db18f",
   "metadata": {},
   "source": [
    "# Zadania"
   ]
  },
  {
   "cell_type": "code",
   "execution_count": 11,
   "id": "62958116-bc43-4c11-bd54-09d3ab9629fd",
   "metadata": {},
   "outputs": [
    {
     "name": "stderr",
     "output_type": "stream",
     "text": [
      "E:\\anaconda3\\envs\\krypto\\lib\\site-packages\\PIL\\Image.py:3406: DecompressionBombWarning: Image size (170664000 pixels) exceeds limit of 89478485 pixels, could be decompression bomb DOS attack.\n",
      "  warnings.warn(\n"
     ]
    }
   ],
   "source": [
    "img_data = np.array(Image.open('data/1mb.png').convert('RGBA'))\n",
    "im1mb = img_data.tobytes()\n",
    "im5mb = np.array(Image.open('data/5mb.png').convert('RGBA')).tobytes()\n",
    "im10mb = np.array(Image.open('data/10mb.png').convert('RGBA')).tobytes()"
   ]
  },
  {
   "cell_type": "code",
   "execution_count": 12,
   "id": "7bc37d4a-f05c-44d2-b4b0-f54bc3530f90",
   "metadata": {},
   "outputs": [
    {
     "data": {
      "text/plain": [
       "b'\\xff\\xff\\xff\\x00\\xff\\xff\\xff\\x00\\xff\\xff\\xff\\x00\\xff\\xff\\xff\\x00\\xff\\xff\\xff\\x00\\xff\\xff\\xff\\x00\\xff\\xff\\xff\\x00\\xff\\xff\\xff\\x00\\xff\\xff\\xff\\x00\\xff\\xff\\xff\\x00\\xff\\xff\\xff\\x00\\xff\\xff\\xff\\x00\\xff\\xff\\xff\\x00\\xff\\xff\\xff\\x00\\xff\\xff\\xff\\x00\\xff\\xff\\xff\\x00\\xff\\xff\\xff\\x00\\xff\\xff\\xff\\x00\\xff\\xff\\xff\\x00\\xff\\xff\\xff\\x00\\xff\\xff\\xff\\x00\\xff\\xff\\xff\\x00\\xff\\xff\\xff\\x00\\xff\\xff\\xff\\x00\\xff\\xff\\xff\\x00'"
      ]
     },
     "execution_count": 12,
     "metadata": {},
     "output_type": "execute_result"
    }
   ],
   "source": [
    "im1mb[0:100]"
   ]
  },
  {
   "cell_type": "code",
   "execution_count": 13,
   "id": "e3d99f36-a099-42be-b63c-9189b65b94a0",
   "metadata": {},
   "outputs": [
    {
     "name": "stdout",
     "output_type": "stream",
     "text": [
      "b'Y\\x0f\\x03\\x9eW\\x92\\x92\\x91\\x9fT\\x1aB.YR\\x1ej\\xf5\\xeey\\x84\\xf8\\xe5D\\xe9\\x00=0\\xebD/\\xc4'\n",
      "32\n"
     ]
    }
   ],
   "source": [
    "aes_block_size_in_bits = 128\n",
    "aes_block_size_in_bytes = aes_block_size_in_bits // 8\n",
    "key = os.urandom(32)\n",
    "print(key)\n",
    "print(len(key))"
   ]
  },
  {
   "cell_type": "code",
   "execution_count": 14,
   "id": "ba93207e-8d36-4dca-bd52-b6ceaa9fad7c",
   "metadata": {},
   "outputs": [],
   "source": [
    "pkcs7_padder = padding.PKCS7(aes_block_size_in_bits).padder()\n",
    "im1mb_padded = pkcs7_padder.update(im1mb) + pkcs7_padder.finalize()\n",
    "pkcs7_padder = padding.PKCS7(aes_block_size_in_bits).padder()\n",
    "im5mb_padded = pkcs7_padder.update(im5mb) + pkcs7_padder.finalize()\n",
    "pkcs7_padder = padding.PKCS7(aes_block_size_in_bits).padder()\n",
    "im10mb_padded = pkcs7_padder.update(im10mb) + pkcs7_padder.finalize()"
   ]
  },
  {
   "cell_type": "code",
   "execution_count": 15,
   "id": "5f8d483e-8eae-4760-ac72-2b9fc3e595c3",
   "metadata": {},
   "outputs": [],
   "source": [
    "if not os.path.isdir('results'):\n",
    "    os.mkdir('results')"
   ]
  },
  {
   "cell_type": "code",
   "execution_count": 16,
   "id": "a9c09e11-dc05-421d-8bcd-5d3c89b268eb",
   "metadata": {},
   "outputs": [],
   "source": [
    "num_of_measurements = 50"
   ]
  },
  {
   "cell_type": "code",
   "execution_count": 17,
   "id": "faa25fc6-fd26-45c4-89d6-f87f4db27209",
   "metadata": {},
   "outputs": [],
   "source": [
    "def save_img(path, image_array):\n",
    "    img = Image.fromarray(image_array, 'RGBA')\n",
    "    img.save(path)"
   ]
  },
  {
   "cell_type": "code",
   "execution_count": 18,
   "id": "4a193421-2c15-4977-ae27-eb52f7edad51",
   "metadata": {},
   "outputs": [],
   "source": [
    "def measure_enc_time(enc_method):\n",
    "    total_1mb_enc_times = np.zeros(num_of_measurements)\n",
    "    total_5mb_enc_times = np.zeros(num_of_measurements)\n",
    "    total_10mb_enc_times = np.zeros(num_of_measurements)\n",
    "    \n",
    "    for i in tqdm(range(num_of_measurements)):\n",
    "        start = time.time()\n",
    "        cipherdata_1mb = enc_method(im1mb_padded)\n",
    "        stop = time.time()\n",
    "        total_1mb_enc_times[i] = stop - start\n",
    "        \n",
    "        start = time.time()\n",
    "        cipherdata_5mb = enc_method(im5mb_padded)\n",
    "        stop = time.time()\n",
    "        total_5mb_enc_times[i] = stop - start\n",
    "        \n",
    "        start = time.time()\n",
    "        cipherdata_10mb = enc_method(im10mb_padded)\n",
    "        stop = time.time()\n",
    "        total_10mb_enc_times[i] = stop - start\n",
    "    \n",
    "    print(f\"For 1mb.png, mean = {total_1mb_enc_times.mean():.4f}s, var = {total_1mb_enc_times.var():.4f}s, median = {np.median(total_1mb_enc_times):.4f}s\")\n",
    "    print(f\"For 5mb.png, mean = {total_5mb_enc_times.mean():.4f}s, var = {total_5mb_enc_times.var():.4f}s, median = {np.median(total_5mb_enc_times):.4f}s\")\n",
    "    print(f\"For 10mb.png, mean = {total_10mb_enc_times.mean():.4f}s, var = {total_10mb_enc_times.var():.4f}s, median = {np.median(total_10mb_enc_times):.4f}s\")\n",
    "    return cipherdata_1mb, cipherdata_5mb, cipherdata_10mb"
   ]
  },
  {
   "cell_type": "code",
   "execution_count": 19,
   "id": "55e39369-87c8-4b85-b0a6-f02caa88d4a0",
   "metadata": {},
   "outputs": [],
   "source": [
    "def measure_dec_time(dec_method, cipherdata_1mb, cipherdata_5mb, cipherdata_10mb):\n",
    "    # mierzę czysty czas deszyfrowania bez usuwania paddingu\n",
    "    total_1mb_dec_times = np.zeros(num_of_measurements)\n",
    "    total_5mb_dec_times = np.zeros(num_of_measurements)\n",
    "    total_10mb_dec_times = np.zeros(num_of_measurements)\n",
    "    \n",
    "    for i in tqdm(range(num_of_measurements)):\n",
    "        start = time.time()\n",
    "        image_data_1mb = dec_method(cipherdata_1mb)\n",
    "        stop = time.time()\n",
    "        total_1mb_dec_times[i] = stop - start\n",
    "        \n",
    "        start = time.time()\n",
    "        image_data_5mb = dec_method(cipherdata_5mb)\n",
    "        stop = time.time()\n",
    "        total_5mb_dec_times[i] = stop - start\n",
    "        \n",
    "        start = time.time()\n",
    "        image_data_10mb = dec_method(cipherdata_10mb)\n",
    "        stop = time.time()\n",
    "        total_10mb_dec_times[i] = stop - start\n",
    "    \n",
    "    assert(image_data_1mb == im1mb_padded)\n",
    "    assert(image_data_5mb == im5mb_padded)\n",
    "    assert(image_data_10mb == im10mb_padded)\n",
    "    \n",
    "    print(f\"For 1mb.png, mean = {total_1mb_dec_times.mean():.4f}s, var = {total_1mb_dec_times.var():.4f}s, median = {np.median(total_1mb_dec_times):.4f}s\")\n",
    "    print(f\"For 5mb.png, mean = {total_5mb_dec_times.mean():.4f}s, var = {total_5mb_dec_times.var():.4f}s, median = {np.median(total_5mb_dec_times):.4f}s\")\n",
    "    print(f\"For 10mb.png, mean = {total_10mb_dec_times.mean():.4f}s, var = {total_10mb_dec_times.var():.4f}s, median = {np.median(total_10mb_dec_times):.4f}s\")"
   ]
  },
  {
   "cell_type": "code",
   "execution_count": 20,
   "id": "580a000f-8806-4b74-8004-715b7c2b5d47",
   "metadata": {},
   "outputs": [],
   "source": [
    "def decrypt_image(image_cipherdata, decrypt_method):\n",
    "    decrypted_img_padded = decrypt_method(image_cipherdata)\n",
    "    pkcs7_unpadder = padding.PKCS7(aes_block_size_in_bits).unpadder()\n",
    "    decrypted_img = pkcs7_unpadder.update(decrypted_img_padded) + pkcs7_unpadder.finalize()\n",
    "    return np.frombuffer(decrypted_img, dtype=np.uint8)[:img_data.size].reshape(img_data.shape)"
   ]
  },
  {
   "cell_type": "code",
   "execution_count": 21,
   "id": "85e3082a-8bc1-4e1f-aac0-2c9c2858c90a",
   "metadata": {},
   "outputs": [],
   "source": [
    "def corrupt_cipherdata(cipherdata, num_of_changes=1):\n",
    "    cipherdata_corrupted = bytearray(copy.copy(cipherdata))\n",
    "    assert cipherdata_corrupted == cipherdata\n",
    "    old_size = len(cipherdata_corrupted)\n",
    "    for i in tqdm(range(num_of_changes)):\n",
    "        random_pos = randrange(len(cipherdata_corrupted) // 2)\n",
    "        cipherdata_corrupted[random_pos] = cipherdata_corrupted[random_pos+1]\n",
    "    new_size = len(cipherdata_corrupted)\n",
    "    assert old_size == new_size\n",
    "    assert cipherdata_corrupted != cipherdata\n",
    "    return cipherdata_corrupted"
   ]
  },
  {
   "cell_type": "markdown",
   "id": "c300d30f-90ea-4a3e-9172-162bf9d4f686",
   "metadata": {},
   "source": [
    "## ECB"
   ]
  },
  {
   "cell_type": "code",
   "execution_count": 22,
   "id": "acec826e-e8a5-435e-bc3f-e22a7f03277b",
   "metadata": {},
   "outputs": [],
   "source": [
    "if not os.path.isdir('results/ecb'):\n",
    "    os.mkdir('results/ecb')"
   ]
  },
  {
   "cell_type": "code",
   "execution_count": 23,
   "id": "93e875fc-7c5f-4d9b-a2d8-1379aab3c562",
   "metadata": {},
   "outputs": [],
   "source": [
    "# AES ECB cipher\n",
    "aes_ecb_cipher = Cipher(AES(key), ECB())"
   ]
  },
  {
   "cell_type": "code",
   "execution_count": 24,
   "id": "8c2d8a0e-1ce3-4071-b3d9-998da93fe349",
   "metadata": {},
   "outputs": [],
   "source": [
    "# Encrypt with padding\n",
    "cipherdata_1mb = aes_ecb_cipher.encryptor().update(im1mb_padded)"
   ]
  },
  {
   "cell_type": "code",
   "execution_count": 25,
   "id": "fd4194d2-b61f-47da-96aa-835f79d34437",
   "metadata": {},
   "outputs": [],
   "source": [
    "# Encrypt with padding\n",
    "cipherdata_5mb = aes_ecb_cipher.encryptor().update(im5mb_padded)"
   ]
  },
  {
   "cell_type": "code",
   "execution_count": 26,
   "id": "56be34f9",
   "metadata": {},
   "outputs": [],
   "source": [
    "# Encrypt with padding\n",
    "cipherdata_10mb = aes_ecb_cipher.encryptor().update(im10mb_padded)"
   ]
  },
  {
   "cell_type": "code",
   "execution_count": 27,
   "id": "932239b3-60b5-4e55-a41d-e291c6a691e8",
   "metadata": {},
   "outputs": [
    {
     "data": {
      "text/plain": [
       "34560016"
      ]
     },
     "execution_count": 27,
     "metadata": {},
     "output_type": "execute_result"
    }
   ],
   "source": [
    "len(cipherdata_1mb)"
   ]
  },
  {
   "cell_type": "code",
   "execution_count": 28,
   "id": "763b3aec-22d6-41d0-88cf-2c82ce7ad2b8",
   "metadata": {},
   "outputs": [],
   "source": [
    "encrypted_img_data = np.frombuffer(cipherdata_1mb, dtype=np.uint8)[:img_data.size].reshape(img_data.shape)"
   ]
  },
  {
   "cell_type": "code",
   "execution_count": 29,
   "id": "d32bd1e4-c46a-4773-82c0-22c7526d4537",
   "metadata": {},
   "outputs": [],
   "source": [
    "encrypted_img = Image.fromarray(encrypted_img_data, 'RGBA')\n",
    "encrypted_img.save('results/ecb/1mb.png')"
   ]
  },
  {
   "cell_type": "code",
   "execution_count": null,
   "id": "f0501ef1-30ca-42cb-ba61-2348c7b79a4e",
   "metadata": {},
   "outputs": [],
   "source": [
    "show_image(filename='results/ecb/1mb.png', width=200)"
   ]
  },
  {
   "cell_type": "markdown",
   "id": "8057a4e8-e2f0-42b6-9544-3dc505a35993",
   "metadata": {},
   "source": [
    "### Pomiar czasu szyfrowania ECB"
   ]
  },
  {
   "cell_type": "code",
   "execution_count": 30,
   "id": "c5c1b6e6-0ef1-45a9-9158-7f2a1ee5a473",
   "metadata": {},
   "outputs": [
    {
     "name": "stderr",
     "output_type": "stream",
     "text": [
      "100%|██████████████████████████████████████████████████████████████████████████████████| 50/50 [00:22<00:00,  2.19it/s]"
     ]
    },
    {
     "name": "stdout",
     "output_type": "stream",
     "text": [
      "For 1mb.png, mean = 0.0167s, var = 0.0000s, median = 0.0160s\n",
      "For 5mb.png, mean = 0.1256s, var = 0.0000s, median = 0.1250s\n",
      "For 10mb.png, mean = 0.3136s, var = 0.0001s, median = 0.3130s\n"
     ]
    },
    {
     "name": "stderr",
     "output_type": "stream",
     "text": [
      "\n"
     ]
    }
   ],
   "source": [
    "cipherdata_1mb, cipherdata_5mb, cipherdata_10mb = measure_enc_time(lambda data: aes_ecb_cipher.encryptor().update(data))"
   ]
  },
  {
   "cell_type": "markdown",
   "id": "7298fe76-3ec4-46c5-9cdd-5cf3196f6789",
   "metadata": {},
   "source": [
    "### Pomiar czasu deszyfrowania ECB"
   ]
  },
  {
   "cell_type": "code",
   "execution_count": 31,
   "id": "c4c07996-fefc-4030-a8e8-6d1d78e96a56",
   "metadata": {},
   "outputs": [
    {
     "name": "stderr",
     "output_type": "stream",
     "text": [
      "100%|██████████████████████████████████████████████████████████████████████████████████| 50/50 [00:22<00:00,  2.19it/s]"
     ]
    },
    {
     "name": "stdout",
     "output_type": "stream",
     "text": [
      "For 1mb.png, mean = 0.0166s, var = 0.0000s, median = 0.0160s\n",
      "For 5mb.png, mean = 0.1251s, var = 0.0000s, median = 0.1250s\n",
      "For 10mb.png, mean = 0.3139s, var = 0.0000s, median = 0.3133s\n"
     ]
    },
    {
     "name": "stderr",
     "output_type": "stream",
     "text": [
      "\n"
     ]
    }
   ],
   "source": [
    "measure_dec_time(lambda data: aes_ecb_cipher.decryptor().update(data), cipherdata_1mb, cipherdata_5mb, cipherdata_10mb)"
   ]
  },
  {
   "cell_type": "code",
   "execution_count": 32,
   "id": "f1705a7f-b1b8-4a1e-b0d5-ba38e9af966a",
   "metadata": {},
   "outputs": [],
   "source": [
    "if not os.path.isdir('results/error_prop'):\n",
    "    os.mkdir('results/error_prop')\n",
    "if not os.path.isdir('results/error_prop/ecb'):\n",
    "    os.mkdir('results/error_prop/ecb')"
   ]
  },
  {
   "cell_type": "code",
   "execution_count": 33,
   "id": "812b005e-9cb0-41e1-a469-805f52426f8b",
   "metadata": {},
   "outputs": [],
   "source": [
    "decrypted_1b = decrypt_image(cipherdata_1mb, lambda data: aes_ecb_cipher.decryptor().update(data))"
   ]
  },
  {
   "cell_type": "code",
   "execution_count": 34,
   "id": "ca29debf-34e3-4334-acae-815476828839",
   "metadata": {},
   "outputs": [],
   "source": [
    "save_img('results/error_prop/ecb/1mb.png', decrypted_1b)"
   ]
  },
  {
   "cell_type": "markdown",
   "id": "6d95d329-bb05-4c2a-93a8-ac1e2bd7d582",
   "metadata": {},
   "source": [
    "### Błąd w szyfrogramie"
   ]
  },
  {
   "cell_type": "code",
   "execution_count": 35,
   "id": "a2c13a53-dfc3-4d16-a7de-8042279e85a0",
   "metadata": {},
   "outputs": [
    {
     "name": "stderr",
     "output_type": "stream",
     "text": [
      "100%|████████████████████████████████████████████████████████████████████████████████████████████| 1/1 [00:00<?, ?it/s]\n"
     ]
    }
   ],
   "source": [
    "cipherdata_1mb_corrupted = corrupt_cipherdata(cipherdata_1mb)"
   ]
  },
  {
   "cell_type": "code",
   "execution_count": 36,
   "id": "6c1fb4a7-af26-4231-af20-6d1df93cfccd",
   "metadata": {},
   "outputs": [],
   "source": [
    "decrypted_1b_corrupted = decrypt_image(cipherdata_1mb_corrupted, lambda data: aes_ecb_cipher.decryptor().update(data))\n",
    "save_img('results/error_prop/ecb/1mb_corrupted.png', decrypted_1b_corrupted)"
   ]
  },
  {
   "cell_type": "code",
   "execution_count": null,
   "id": "93ea769c-85ea-4022-ae14-5974f825f747",
   "metadata": {},
   "outputs": [],
   "source": [
    "show_image(filename='results/error_prop/ecb/1mb_corrupted.png', width=200)"
   ]
  },
  {
   "cell_type": "markdown",
   "id": "40fac9ad-4efd-4813-a784-64476508c2b7",
   "metadata": {},
   "source": [
    "## CBC"
   ]
  },
  {
   "cell_type": "code",
   "execution_count": 38,
   "id": "839ce7c8-3d18-43c3-ad8f-cfa1bd782b7b",
   "metadata": {},
   "outputs": [],
   "source": [
    "iv = os.urandom(aes_block_size_in_bytes)\n",
    "aes_cbc_cipher = Cipher(AES(key), CBC(iv))"
   ]
  },
  {
   "cell_type": "code",
   "execution_count": 39,
   "id": "e8f0749c-30de-4526-9ab4-7def1e5ecf7f",
   "metadata": {},
   "outputs": [
    {
     "name": "stdout",
     "output_type": "stream",
     "text": [
      "b'K6\\xd1\\x12\\xb6\\xf4\\x0e[\\xb1\\xec(\\x06\\x81\\x9c\\xa3\\xb8\\xd2\\xf6\\x18\\xcd\\x05\\xaf\\x7f\\x97\\xba\\x0c\\xb1\\xf5,N\\x01Oqu|\\x81\\x96h\\xd8Q\\xe9\\xd5?P\\xfcF*KFX\\xac\\x8c6\\xbd\\xb0m\\x9cWORS\\xd4\"\\xa0'\n"
     ]
    }
   ],
   "source": [
    "msg = b'To jest testowa wiadomosc. Dalszy teskt. ABCDEFGHIJK'\n",
    "pkcs7_unpadder = padding.PKCS7(aes_block_size_in_bits).padder()\n",
    "padded_msg = pkcs7_unpadder.update(msg) + pkcs7_unpadder.finalize()\n",
    "encrypted_msg = aes_cbc_cipher.encryptor().update(padded_msg)\n",
    "print(encrypted_msg)"
   ]
  },
  {
   "cell_type": "code",
   "execution_count": 40,
   "id": "6fc34907-fa27-4d84-99ba-b2d2bca4e1c2",
   "metadata": {},
   "outputs": [
    {
     "name": "stdout",
     "output_type": "stream",
     "text": [
      "b'To jest testowa wiadomosc. Dalszy teskt. ABCDEFGHIJK\\x0c\\x0c\\x0c\\x0c\\x0c\\x0c\\x0c\\x0c\\x0c\\x0c\\x0c\\x0c'\n"
     ]
    }
   ],
   "source": [
    "decrypted_msg = aes_cbc_cipher.decryptor().update(encrypted_msg)\n",
    "print(decrypted_msg)"
   ]
  },
  {
   "cell_type": "markdown",
   "id": "e2342f87-7b71-4df2-9db7-5120d5446022",
   "metadata": {},
   "source": [
    "### Pomiar czasu szyfrowania CBC"
   ]
  },
  {
   "cell_type": "code",
   "execution_count": 41,
   "id": "e82b267e-687e-42f0-a3b8-2cbe46384b58",
   "metadata": {},
   "outputs": [
    {
     "name": "stderr",
     "output_type": "stream",
     "text": [
      "100%|██████████████████████████████████████████████████████████████████████████████████| 50/50 [00:50<00:00,  1.02s/it]"
     ]
    },
    {
     "name": "stdout",
     "output_type": "stream",
     "text": [
      "For 1mb.png, mean = 0.0372s, var = 0.0000s, median = 0.0360s\n",
      "For 5mb.png, mean = 0.2827s, var = 0.0003s, median = 0.2735s\n",
      "For 10mb.png, mean = 0.6966s, var = 0.0015s, median = 0.6733s\n"
     ]
    },
    {
     "name": "stderr",
     "output_type": "stream",
     "text": [
      "\n"
     ]
    }
   ],
   "source": [
    "cipherdata_1mb, cipherdata_5mb, cipherdata_10mb = measure_enc_time(lambda data: aes_cbc_cipher.encryptor().update(data))"
   ]
  },
  {
   "cell_type": "markdown",
   "id": "3d3fbfca-c04e-428f-be97-9ae8fba9805b",
   "metadata": {},
   "source": [
    "### Pomiar czasu deszyfrowania CBC"
   ]
  },
  {
   "cell_type": "code",
   "execution_count": 42,
   "id": "7dfea6a2-d4ad-4ab3-813a-f22b88300325",
   "metadata": {},
   "outputs": [
    {
     "name": "stderr",
     "output_type": "stream",
     "text": [
      "100%|██████████████████████████████████████████████████████████████████████████████████| 50/50 [00:23<00:00,  2.17it/s]"
     ]
    },
    {
     "name": "stdout",
     "output_type": "stream",
     "text": [
      "For 1mb.png, mean = 0.0169s, var = 0.0000s, median = 0.0160s\n",
      "For 5mb.png, mean = 0.1269s, var = 0.0001s, median = 0.1250s\n",
      "For 10mb.png, mean = 0.3168s, var = 0.0002s, median = 0.3130s\n"
     ]
    },
    {
     "name": "stderr",
     "output_type": "stream",
     "text": [
      "\n"
     ]
    }
   ],
   "source": [
    "measure_dec_time(lambda data: aes_cbc_cipher.decryptor().update(data), cipherdata_1mb, cipherdata_5mb, cipherdata_10mb)"
   ]
  },
  {
   "cell_type": "markdown",
   "id": "587f71d7-f739-4945-b2ca-c037a555ac68",
   "metadata": {},
   "source": [
    "### Błąd w szyfrogramie tekstowym"
   ]
  },
  {
   "cell_type": "code",
   "execution_count": 93,
   "id": "09e6da5d-13a2-46b0-a187-2ede1a3f5966",
   "metadata": {},
   "outputs": [
    {
     "name": "stdout",
     "output_type": "stream",
     "text": [
      "b'To jest testowa wiadomosc. Powinna byc podzielona na wiele blokow. Dalsza czesc wiadomosci. ABCDEFGHIJK\\t\\t\\t\\t\\t\\t\\t\\t\\t' 112\n"
     ]
    }
   ],
   "source": [
    "msg = b'To jest testowa wiadomosc. Powinna byc podzielona na wiele blokow. Dalsza czesc wiadomosci. ABCDEFGHIJK'\n",
    "pkcs7_unpadder = padding.PKCS7(aes_block_size_in_bits).padder()\n",
    "padded_msg = pkcs7_unpadder.update(msg) + pkcs7_unpadder.finalize()\n",
    "print(padded_msg, len(padded_msg))"
   ]
  },
  {
   "cell_type": "code",
   "execution_count": 94,
   "id": "daa6c0cf-05a4-45d5-bdbc-d8c49fa06bc3",
   "metadata": {},
   "outputs": [
    {
     "data": {
      "text/plain": [
       "7"
      ]
     },
     "execution_count": 94,
     "metadata": {},
     "output_type": "execute_result"
    }
   ],
   "source": [
    "num_of_blocks = len(padded_msg) // aes_block_size_in_bytes\n",
    "num_of_blocks"
   ]
  },
  {
   "cell_type": "code",
   "execution_count": 105,
   "id": "ac14aef1-25e3-44d7-8e69-558ba63958fe",
   "metadata": {},
   "outputs": [
    {
     "name": "stdout",
     "output_type": "stream",
     "text": [
      "3\n",
      "48\n"
     ]
    }
   ],
   "source": [
    "margin = 1\n",
    "from_where_corrupt = randint(margin, num_of_blocks - margin)\n",
    "corrupt_pos = from_where_corrupt * aes_block_size_in_bytes\n",
    "print(from_where_corrupt)\n",
    "print(corrupt_pos)"
   ]
  },
  {
   "cell_type": "code",
   "execution_count": 106,
   "id": "5961b155-f4c1-4623-884f-4b8154869f2f",
   "metadata": {},
   "outputs": [
    {
     "name": "stdout",
     "output_type": "stream",
     "text": [
      "b'K6\\xd1\\x12\\xb6\\xf4\\x0e[\\xb1\\xec(\\x06\\x81\\x9c\\xa3\\xb8\\x0e\\xbbe\\xaf\\xf5\\xa1W\\xb57%\\xbae\\xef\\xd5\\xf2\\x00\\x97\\x07\\x9bg&\\x18\\xed<\\xcb\\xd9\\xb6\\xf1\\xf4\\x9b\\x19\\xce' 48\n"
     ]
    }
   ],
   "source": [
    "first_half = aes_cbc_cipher.encryptor().update(padded_msg[0:corrupt_pos])\n",
    "print(first_half, len(first_half))"
   ]
  },
  {
   "cell_type": "code",
   "execution_count": 107,
   "id": "7ec778eb-eb0c-43dc-8886-18cf2ac89115",
   "metadata": {},
   "outputs": [
    {
     "name": "stderr",
     "output_type": "stream",
     "text": [
      "100%|████████████████████████████████████████████████████████████████████████████████████████████| 2/2 [00:00<?, ?it/s]"
     ]
    },
    {
     "name": "stdout",
     "output_type": "stream",
     "text": [
      "b'\\x97\\x07gg&\\x18\\xed<\\xcb\\xd9\\xb6\\xf1\\xf4\\x9b\\x19\\xce' 16\n"
     ]
    },
    {
     "name": "stderr",
     "output_type": "stream",
     "text": [
      "\n"
     ]
    }
   ],
   "source": [
    "second_half_iv = bytes(corrupt_cipherdata(first_half[-aes_block_size_in_bytes:], 2))\n",
    "print(second_half_iv, len(second_half_iv))\n",
    "assert second_half_iv != first_half[-aes_block_size_in_bytes:]"
   ]
  },
  {
   "cell_type": "code",
   "execution_count": 108,
   "id": "24ac3264-99a7-4097-b216-7b20407f2484",
   "metadata": {},
   "outputs": [
    {
     "name": "stdout",
     "output_type": "stream",
     "text": [
      "b'\\xbc\\xf0\\x02\\x8a\\xbc\\xaf\\xc2$\\xfbZm\\x89\\xf7\\xc1\\xa9\\xc0@\\xfb?\\x97\\x16\\xae I\\xc6\\x98\\xab\\x87\\x95-\\xde\\xfd2&\\xe2\\xf8\\x89.\\x1b_\\xa4:\\xf68\\x05\\x18_\\xadM\\xd5\\x85\\xd0a_SW\\xf18\\xc9\\xe8\\xe2B!\\x8e' 64\n"
     ]
    }
   ],
   "source": [
    "aes_cbc_cipher2 = Cipher(AES(key), CBC(os.urandom(16)))\n",
    "second_half = aes_cbc_cipher2.encryptor().update(padded_msg[corrupt_pos:])\n",
    "print(second_half, len(second_half))"
   ]
  },
  {
   "cell_type": "code",
   "execution_count": 109,
   "id": "0bd60bab-3cb6-4336-8fef-b7ed67b670da",
   "metadata": {},
   "outputs": [
    {
     "name": "stdout",
     "output_type": "stream",
     "text": [
      "b'K6\\xd1\\x12\\xb6\\xf4\\x0e[\\xb1\\xec(\\x06\\x81\\x9c\\xa3\\xb8\\x0e\\xbbe\\xaf\\xf5\\xa1W\\xb57%\\xbae\\xef\\xd5\\xf2\\x00\\x97\\x07\\x9bg&\\x18\\xed<\\xcb\\xd9\\xb6\\xf1\\xf4\\x9b\\x19\\xce\\xbc\\xf0\\x02\\x8a\\xbc\\xaf\\xc2$\\xfbZm\\x89\\xf7\\xc1\\xa9\\xc0@\\xfb?\\x97\\x16\\xae I\\xc6\\x98\\xab\\x87\\x95-\\xde\\xfd2&\\xe2\\xf8\\x89.\\x1b_\\xa4:\\xf68\\x05\\x18_\\xadM\\xd5\\x85\\xd0a_SW\\xf18\\xc9\\xe8\\xe2B!\\x8e'\n"
     ]
    }
   ],
   "source": [
    "corrupted_cipherdata = first_half + second_half\n",
    "print(corrupted_cipherdata)"
   ]
  },
  {
   "cell_type": "code",
   "execution_count": 110,
   "id": "e768472c-7fc3-4b22-91da-cec3cf89bda5",
   "metadata": {},
   "outputs": [
    {
     "name": "stdout",
     "output_type": "stream",
     "text": [
      "b'To jest testowa wiadomosc. Powinna byc podzielon\\x05G,\\x0f\\x92R\\xeb\\xef|\\x1b\\xdb4<\\xd6\\xbd\\xc8w. Dalsza czesc wiadomosci. ABCDEFGHIJK\\t\\t\\t\\t\\t\\t\\t\\t\\t'\n"
     ]
    }
   ],
   "source": [
    "decrypted_corrupted_cipherdata = aes_cbc_cipher.decryptor().update(corrupted_cipherdata)\n",
    "print(decrypted_corrupted_cipherdata)"
   ]
  },
  {
   "cell_type": "markdown",
   "id": "29926099-c586-47cc-b66c-65d3ecd1350e",
   "metadata": {},
   "source": [
    "### Błąd w szyfrogramie"
   ]
  },
  {
   "cell_type": "code",
   "execution_count": 51,
   "id": "24efb037-1f66-4096-8661-75160414b6c3",
   "metadata": {},
   "outputs": [
    {
     "name": "stderr",
     "output_type": "stream",
     "text": [
      "100%|██████████████████████████████████████████████████████████████████████████████████████████| 16/16 [00:00<?, ?it/s]\n"
     ]
    }
   ],
   "source": [
    "num_of_blocks = len(im1mb_padded) // aes_block_size_in_bytes\n",
    "margin = 1000\n",
    "from_where_corrupt = randint(margin, num_of_blocks - margin)\n",
    "corrupt_pos = from_where_corrupt * aes_block_size_in_bytes\n",
    "\n",
    "first_half_1mb = aes_cbc_cipher.encryptor().update(im1mb_padded[0:corrupt_pos])\n",
    "\n",
    "second_half_iv = corrupt_cipherdata(first_half_1mb[-aes_block_size_in_bytes:], 16)\n",
    "\n",
    "aes_cbc_cipher2 = Cipher(AES(key), CBC(second_half_iv))\n",
    "second_half_1mb = aes_cbc_cipher2.encryptor().update(im1mb_padded[corrupt_pos:])\n",
    "\n",
    "cipherdata_1mb_corrupted = first_half_1mb + second_half_1mb"
   ]
  },
  {
   "cell_type": "code",
   "execution_count": 52,
   "id": "139b9773-409e-4ba5-96d2-6dc5818f060e",
   "metadata": {},
   "outputs": [],
   "source": [
    "if not os.path.isdir('results/error_prop/cbc'):\n",
    "    os.mkdir('results/error_prop/cbc')"
   ]
  },
  {
   "cell_type": "code",
   "execution_count": 53,
   "id": "9628745c-d4cb-489a-9baf-d684a67c8f30",
   "metadata": {},
   "outputs": [],
   "source": [
    "decrypted_1b_corrupted = decrypt_image(cipherdata_1mb_corrupted, lambda data: aes_cbc_cipher.decryptor().update(data))\n",
    "save_img('results/error_prop/cbc/1mb_corrupted.png', decrypted_1b_corrupted)"
   ]
  },
  {
   "cell_type": "code",
   "execution_count": null,
   "id": "85b30327-3586-46b0-b7b2-7653cfac590b",
   "metadata": {},
   "outputs": [],
   "source": [
    "show_image(filename='results/error_prop/ecb/1mb_corrupted.png', width=200)"
   ]
  },
  {
   "cell_type": "markdown",
   "id": "64646ccd-a15c-4f52-905a-fb803330548e",
   "metadata": {},
   "source": [
    "### Błąd w szyfrogramie nr 2"
   ]
  },
  {
   "cell_type": "code",
   "execution_count": 120,
   "id": "943b3e51-8cca-4b58-9181-3263492e18a8",
   "metadata": {},
   "outputs": [
    {
     "name": "stderr",
     "output_type": "stream",
     "text": [
      "100%|██████████████████████████████████████████████████████████████████████████████████████████| 10/10 [00:00<?, ?it/s]\n"
     ]
    }
   ],
   "source": [
    "cipherdata_1mb = aes_cbc_cipher.encryptor().update(im1mb_padded)\n",
    "cipherdata_1mb_corrupted = corrupt_cipherdata(cipherdata_1mb, 10)"
   ]
  },
  {
   "cell_type": "code",
   "execution_count": 122,
   "id": "7702824f-5faf-495c-8193-d3b9fc86f163",
   "metadata": {},
   "outputs": [],
   "source": [
    "if not os.path.isdir('results/error_prop/cbc'):\n",
    "    os.mkdir('results/error_prop/cbc')"
   ]
  },
  {
   "cell_type": "code",
   "execution_count": 123,
   "id": "dc6b3582-c489-489b-90ff-15a2c0c8502d",
   "metadata": {},
   "outputs": [],
   "source": [
    "decrypted_1b_corrupted = decrypt_image(cipherdata_1mb_corrupted, lambda data: aes_cbc_cipher.decryptor().update(data))\n",
    "save_img('results/error_prop/cbc/1mb_corrupted2.png', decrypted_1b_corrupted)"
   ]
  },
  {
   "cell_type": "code",
   "execution_count": null,
   "id": "d864d5cf-86ec-426e-917f-89e3726fd59c",
   "metadata": {},
   "outputs": [],
   "source": [
    "show_image(filename='results/error_prop/cbc/1mb_corrupted2.png', width=200)"
   ]
  },
  {
   "cell_type": "markdown",
   "id": "5f46544a-5c06-45a5-a868-1494f0325f78",
   "metadata": {},
   "source": [
    "## Moja implementacja CBC"
   ]
  },
  {
   "cell_type": "code",
   "execution_count": 55,
   "id": "6eae3c32-a5c3-469b-ad7a-4e59fd7a668b",
   "metadata": {},
   "outputs": [],
   "source": [
    "def xor_bytes(bytes1, bytes2):\n",
    "    return bytes([a ^ b for a, b in zip(bytes1, bytes2)])"
   ]
  },
  {
   "cell_type": "code",
   "execution_count": 56,
   "id": "c48a86b8-4d9a-4e91-8326-d56ba318ce8a",
   "metadata": {},
   "outputs": [],
   "source": [
    "def encrypt_cbc(aes_ecb_cipher, iv, data):\n",
    "    num_of_blocks = len(data) // aes_block_size_in_bytes\n",
    "    last_cipherdata = copy.copy(iv)\n",
    "    encrypted_data = bytearray(num_of_blocks * aes_block_size_in_bytes)\n",
    "    \n",
    "    for block_id in tqdm(range(num_of_blocks)):\n",
    "        start = block_id * aes_block_size_in_bytes\n",
    "        stop = start + aes_block_size_in_bytes\n",
    "        \n",
    "        block_to_cipher = data[start:stop]\n",
    "        data_to_cipher = xor_bytes(block_to_cipher, last_cipherdata)\n",
    "        \n",
    "        enc_block = aes_ecb_cipher.encryptor().update(data_to_cipher)\n",
    "        encrypted_data[start:stop] = enc_block\n",
    "        last_cipherdata = enc_block\n",
    "        \n",
    "    return bytes(encrypted_data)"
   ]
  },
  {
   "cell_type": "code",
   "execution_count": 57,
   "id": "30d8a1d3-e60b-4591-a6f3-f94937df870e",
   "metadata": {},
   "outputs": [],
   "source": [
    "def decrypt_cbc(aes_ecb_cipher, iv, data):\n",
    "    num_of_blocks = len(data) // aes_block_size_in_bytes\n",
    "    decrypted_data = bytearray(num_of_blocks * aes_block_size_in_bytes)\n",
    "    \n",
    "    for block_id in tqdm(range(num_of_blocks - 1, 0, -1)):\n",
    "        curr_block_start = block_id * aes_block_size_in_bytes\n",
    "        curr_block_stop = curr_block_start + aes_block_size_in_bytes\n",
    "        \n",
    "        prev_block_start = (block_id - 1) * aes_block_size_in_bytes\n",
    "        prev_block_end = prev_block_start + aes_block_size_in_bytes\n",
    "        \n",
    "        curr_block = data[curr_block_start:curr_block_stop]\n",
    "        prev_block = data[prev_block_start:prev_block_end]\n",
    "\n",
    "        dec_curr_block = aes_ecb_cipher.decryptor().update(curr_block)\n",
    "        decrypted_data[curr_block_start:curr_block_stop] = xor_bytes(dec_curr_block, prev_block)\n",
    "\n",
    "    first_dec_block = aes_ecb_cipher.decryptor().update(data[0:aes_block_size_in_bytes])\n",
    "    decrypted_data[0:aes_block_size_in_bytes] = xor_bytes(first_dec_block, iv)\n",
    "    \n",
    "    return bytes(decrypted_data)"
   ]
  },
  {
   "cell_type": "code",
   "execution_count": 58,
   "id": "2ed6b445-edc4-4ea9-8bec-98d4b19929a0",
   "metadata": {},
   "outputs": [
    {
     "name": "stdout",
     "output_type": "stream",
     "text": [
      "64 512\n",
      "b'Test szyfrowania CBC. Dalsza tresc wiadomosci. ABCDEFG\\n\\n\\n\\n\\n\\n\\n\\n\\n\\n'\n"
     ]
    }
   ],
   "source": [
    "msg = b'Test szyfrowania CBC. Dalsza tresc wiadomosci. ABCDEFG'\n",
    "pkcs7_unpadder = padding.PKCS7(aes_block_size_in_bits).padder()\n",
    "padded_msg = pkcs7_unpadder.update(msg) + pkcs7_unpadder.finalize()\n",
    "print(len(padded_msg), len(padded_msg) * 8)\n",
    "print(padded_msg)"
   ]
  },
  {
   "cell_type": "code",
   "execution_count": 59,
   "id": "f3d88a82-9d6b-4cd1-9fa1-61950b4bc940",
   "metadata": {},
   "outputs": [
    {
     "name": "stderr",
     "output_type": "stream",
     "text": [
      "100%|████████████████████████████████████████████████████████████████████████████████████████████| 4/4 [00:00<?, ?it/s]\n"
     ]
    }
   ],
   "source": [
    "res = encrypt_cbc(aes_ecb_cipher, iv, padded_msg)"
   ]
  },
  {
   "cell_type": "code",
   "execution_count": 60,
   "id": "afcb0c47-9be1-4b77-9b0d-40694b8babc5",
   "metadata": {},
   "outputs": [
    {
     "name": "stderr",
     "output_type": "stream",
     "text": [
      "100%|████████████████████████████████████████████████████████████████████████████████████████████| 3/3 [00:00<?, ?it/s]\n"
     ]
    }
   ],
   "source": [
    "dec_res = decrypt_cbc(aes_ecb_cipher, iv, res)"
   ]
  },
  {
   "cell_type": "code",
   "execution_count": 61,
   "id": "6b2339fa-0c4b-44bf-838c-dd45196fdf36",
   "metadata": {},
   "outputs": [
    {
     "data": {
      "text/plain": [
       "b'Test szyfrowania CBC. Dalsza tresc wiadomosci. ABCDEFG\\n\\n\\n\\n\\n\\n\\n\\n\\n\\n'"
      ]
     },
     "execution_count": 61,
     "metadata": {},
     "output_type": "execute_result"
    }
   ],
   "source": [
    "dec_res"
   ]
  },
  {
   "cell_type": "markdown",
   "id": "d1351215-51dc-4848-91c3-f5039b6c2027",
   "metadata": {},
   "source": [
    "### Pomiar czasu szyfrowania mojej implementacji CBC"
   ]
  },
  {
   "cell_type": "code",
   "execution_count": 127,
   "id": "9d28b96d-332d-4f5f-9b3b-99c2272111d9",
   "metadata": {},
   "outputs": [
    {
     "name": "stderr",
     "output_type": "stream",
     "text": [
      "100%|████████████████████████████████████████████████████████████████████| 2160001/2160001 [00:16<00:00, 133608.11it/s]"
     ]
    },
    {
     "name": "stdout",
     "output_type": "stream",
     "text": [
      "Encryption time of my CBC on 1mb.png is 16.18s\n"
     ]
    },
    {
     "name": "stderr",
     "output_type": "stream",
     "text": [
      "\n"
     ]
    }
   ],
   "source": [
    "start = time.time()\n",
    "cipherdata_1mb = encrypt_cbc(aes_ecb_cipher, iv, im1mb_padded)\n",
    "stop = time.time()\n",
    "enc_1mb_time = stop - start\n",
    "print(f\"Encryption time of my CBC on 1mb.png is {enc_1mb_time:.2f}s\")"
   ]
  },
  {
   "cell_type": "code",
   "execution_count": 63,
   "id": "e7a541ce-4208-43b6-912d-d4fc37828772",
   "metadata": {},
   "outputs": [],
   "source": [
    "encrypted_img_data = np.frombuffer(cipherdata_1mb, dtype=np.uint8)[:img_data.size].reshape(img_data.shape)\n",
    "\n",
    "if not os.path.isdir(\"results/cbc\"):\n",
    "    os.mkdir(\"results/cbc\")\n",
    "\n",
    "encrypted_img = Image.fromarray(encrypted_img_data, 'RGBA')\n",
    "encrypted_img.save('results/cbc/1mb.png')"
   ]
  },
  {
   "cell_type": "code",
   "execution_count": null,
   "id": "c484d67b-08ed-4a25-81b8-b0ca2183dced",
   "metadata": {},
   "outputs": [],
   "source": [
    "show_image(filename='results/cbc/1mb.png', width=200)"
   ]
  },
  {
   "cell_type": "code",
   "execution_count": 64,
   "id": "62491b79-26fb-477e-8e87-91220a29f81e",
   "metadata": {},
   "outputs": [
    {
     "name": "stderr",
     "output_type": "stream",
     "text": [
      "100%|██████████████████████████████████████████████████████████████████| 17113301/17113301 [02:07<00:00, 134375.75it/s]\n"
     ]
    },
    {
     "name": "stdout",
     "output_type": "stream",
     "text": [
      "Encryption time of my CBC on 5mb.png is 127.47s\n"
     ]
    }
   ],
   "source": [
    "start = time.time()\n",
    "cipherdata_5mb = encrypt_cbc(aes_ecb_cipher, iv, im5mb_padded)\n",
    "stop = time.time()\n",
    "enc_5mb_time = stop - start\n",
    "print(f\"Encryption time of my CBC on 5mb.png is {enc_5mb_time:.2f}s\")"
   ]
  },
  {
   "cell_type": "code",
   "execution_count": 65,
   "id": "183017a4-2012-4630-ae5a-b5c591a3218d",
   "metadata": {},
   "outputs": [
    {
     "name": "stderr",
     "output_type": "stream",
     "text": [
      "100%|██████████████████████████████████████████████████████████████████| 42666001/42666001 [05:17<00:00, 134352.19it/s]\n"
     ]
    },
    {
     "name": "stdout",
     "output_type": "stream",
     "text": [
      "Encryption time of my CBC on 10mb.png is 317.86s\n"
     ]
    }
   ],
   "source": [
    "start = time.time()\n",
    "cipherdata_10mb = encrypt_cbc(aes_ecb_cipher, iv, im10mb_padded)\n",
    "stop = time.time()\n",
    "enc_10mb_time = stop - start\n",
    "print(f\"Encryption time of my CBC on 10mb.png is {enc_10mb_time:.2f}s\")"
   ]
  },
  {
   "cell_type": "markdown",
   "id": "a9ab5399-e6e2-4ac9-a7c8-40af7984b421",
   "metadata": {},
   "source": [
    "### Pomiar czasu deszyfrowania mojej implementacji CBC"
   ]
  },
  {
   "cell_type": "code",
   "execution_count": 66,
   "id": "f0195f3e-3458-4d79-9dad-2b24826e3114",
   "metadata": {},
   "outputs": [
    {
     "name": "stderr",
     "output_type": "stream",
     "text": [
      "100%|████████████████████████████████████████████████████████████████████| 2160000/2160000 [00:15<00:00, 142867.11it/s]"
     ]
    },
    {
     "name": "stdout",
     "output_type": "stream",
     "text": [
      "Decryption time of my CBC on 1mb.png is 15.13s\n"
     ]
    },
    {
     "name": "stderr",
     "output_type": "stream",
     "text": [
      "\n"
     ]
    }
   ],
   "source": [
    "start = time.time()\n",
    "image_data_1mb = decrypt_cbc(aes_ecb_cipher, iv, cipherdata_1mb)\n",
    "stop = time.time()\n",
    "dec_1mb_time = stop - start\n",
    "print(f\"Decryption time of my CBC on 1mb.png is {dec_1mb_time:.2f}s\")"
   ]
  },
  {
   "cell_type": "code",
   "execution_count": 67,
   "id": "c2e48acb",
   "metadata": {},
   "outputs": [
    {
     "name": "stderr",
     "output_type": "stream",
     "text": [
      "100%|██████████████████████████████████████████████████████████████████| 17113300/17113300 [02:01<00:00, 141220.71it/s]"
     ]
    },
    {
     "name": "stdout",
     "output_type": "stream",
     "text": [
      "Decryption time of my CBC on 5mb.png is 121.27s\n"
     ]
    },
    {
     "name": "stderr",
     "output_type": "stream",
     "text": [
      "\n"
     ]
    }
   ],
   "source": [
    "start = time.time()\n",
    "image_data_5mb = decrypt_cbc(aes_ecb_cipher, iv, cipherdata_5mb)\n",
    "stop = time.time()\n",
    "dec_5mb_time = stop - start\n",
    "print(f\"Decryption time of my CBC on 5mb.png is {dec_5mb_time:.2f}s\")"
   ]
  },
  {
   "cell_type": "code",
   "execution_count": 68,
   "id": "d2d222cf",
   "metadata": {},
   "outputs": [
    {
     "name": "stderr",
     "output_type": "stream",
     "text": [
      "100%|██████████████████████████████████████████████████████████████████| 42666000/42666000 [05:03<00:00, 140424.25it/s]\n"
     ]
    },
    {
     "name": "stdout",
     "output_type": "stream",
     "text": [
      "Decryption time of my CBC on 10mb.png is 304.09s\n"
     ]
    }
   ],
   "source": [
    "start = time.time()\n",
    "image_data_10mb = decrypt_cbc(aes_ecb_cipher, iv, cipherdata_10mb)\n",
    "stop = time.time()\n",
    "dec_10mb_time = stop - start\n",
    "print(f\"Decryption time of my CBC on 10mb.png is {dec_10mb_time:.2f}s\")"
   ]
  },
  {
   "cell_type": "markdown",
   "id": "f4448c38-43f9-4cf6-921b-516525048ec4",
   "metadata": {},
   "source": [
    "### Błąd w szyfrogramie używając moją implementację CBC"
   ]
  },
  {
   "cell_type": "code",
   "execution_count": 69,
   "id": "bec522d4-19f9-4874-9860-17215c9624da",
   "metadata": {},
   "outputs": [
    {
     "name": "stderr",
     "output_type": "stream",
     "text": [
      "100%|████████████████████████████████████████████████████████████████████| 2160001/2160001 [00:15<00:00, 139906.71it/s]\n",
      "100%|██████████████████████████████████████████████████████████████████████████████████████████| 10/10 [00:00<?, ?it/s]\n"
     ]
    }
   ],
   "source": [
    "cipherdata_1mb = encrypt_cbc(aes_ecb_cipher, iv, im1mb_padded)\n",
    "cipherdata_1mb_corrupted = corrupt_cipherdata(cipherdata_1mb, 10)\n",
    "assert cipherdata_1mb != cipherdata_1mb_corrupted"
   ]
  },
  {
   "cell_type": "code",
   "execution_count": 70,
   "id": "d313cf14-10d8-409a-b486-f68c8f6027c1",
   "metadata": {},
   "outputs": [],
   "source": [
    "if not os.path.isdir('results/error_prop/moj_cbc'):\n",
    "    os.mkdir('results/error_prop/moj_cbc')"
   ]
  },
  {
   "cell_type": "code",
   "execution_count": 71,
   "id": "c6e0a3d5-eced-4978-acf2-9185d0021cbc",
   "metadata": {},
   "outputs": [
    {
     "name": "stderr",
     "output_type": "stream",
     "text": [
      "100%|████████████████████████████████████████████████████████████████████| 2160000/2160000 [00:15<00:00, 141802.84it/s]\n"
     ]
    }
   ],
   "source": [
    "decrypted_1b_corrupted = decrypt_image(cipherdata_1mb_corrupted, lambda data: decrypt_cbc(aes_ecb_cipher, iv, data))\n",
    "save_img('results/error_prop/moj_cbc/1mb_corrupted.png', decrypted_1b_corrupted)"
   ]
  },
  {
   "cell_type": "code",
   "execution_count": null,
   "id": "70b512c3-68ea-4b7c-9e0c-fe9f0050eddb",
   "metadata": {},
   "outputs": [],
   "source": [
    "show_image(filename='results/error_prop/moj_cbc/1mb_corrupted.png', width=200)"
   ]
  },
  {
   "cell_type": "markdown",
   "id": "9d8bf4c4-0394-44be-81a4-af58b0d88022",
   "metadata": {},
   "source": [
    "## CTR"
   ]
  },
  {
   "cell_type": "code",
   "execution_count": 73,
   "id": "08b423e2-889d-4231-8223-355b1b413283",
   "metadata": {},
   "outputs": [],
   "source": [
    "iv = os.urandom(aes_block_size_in_bytes)\n",
    "aes_ctr_cipher = Cipher(AES(key), CTR(iv))"
   ]
  },
  {
   "cell_type": "markdown",
   "id": "9d645ce9-70a5-42a7-a7e9-7f690df9c536",
   "metadata": {},
   "source": [
    "### Pomiar czasu szyfrowania ECB"
   ]
  },
  {
   "cell_type": "code",
   "execution_count": 74,
   "id": "bf4dfcd2-f7c4-4b76-a363-76acc3cd9fa8",
   "metadata": {},
   "outputs": [
    {
     "name": "stderr",
     "output_type": "stream",
     "text": [
      "100%|██████████████████████████████████████████████████████████████████████████████████| 50/50 [00:23<00:00,  2.15it/s]"
     ]
    },
    {
     "name": "stdout",
     "output_type": "stream",
     "text": [
      "For 1mb.png, mean = 0.0166s, var = 0.0000s, median = 0.0165s\n",
      "For 5mb.png, mean = 0.1279s, var = 0.0000s, median = 0.1273s\n",
      "For 10mb.png, mean = 0.3189s, var = 0.0000s, median = 0.3196s\n"
     ]
    },
    {
     "name": "stderr",
     "output_type": "stream",
     "text": [
      "\n"
     ]
    }
   ],
   "source": [
    "cipherdata_1mb, cipherdata_5mb, cipherdata_10mb = measure_enc_time(lambda data: aes_ctr_cipher.encryptor().update(data))"
   ]
  },
  {
   "cell_type": "markdown",
   "id": "b245183d-1727-4756-8ebd-fcf96452972a",
   "metadata": {},
   "source": [
    "### Pomiar czasu deszyfrowania ECB"
   ]
  },
  {
   "cell_type": "code",
   "execution_count": 75,
   "id": "1e234765-5073-4964-adeb-42f018668504",
   "metadata": {},
   "outputs": [
    {
     "name": "stderr",
     "output_type": "stream",
     "text": [
      "100%|██████████████████████████████████████████████████████████████████████████████████| 50/50 [00:23<00:00,  2.11it/s]"
     ]
    },
    {
     "name": "stdout",
     "output_type": "stream",
     "text": [
      "For 1mb.png, mean = 0.0176s, var = 0.0000s, median = 0.0165s\n",
      "For 5mb.png, mean = 0.1314s, var = 0.0001s, median = 0.1300s\n",
      "For 10mb.png, mean = 0.3249s, var = 0.0002s, median = 0.3238s\n"
     ]
    },
    {
     "name": "stderr",
     "output_type": "stream",
     "text": [
      "\n"
     ]
    }
   ],
   "source": [
    "measure_dec_time(lambda data: aes_ctr_cipher.decryptor().update(data), cipherdata_1mb, cipherdata_5mb, cipherdata_10mb)"
   ]
  },
  {
   "cell_type": "markdown",
   "id": "1db02450-6b0c-4abf-a650-d694234945be",
   "metadata": {},
   "source": [
    "### Błąd w szyfrogramie"
   ]
  },
  {
   "cell_type": "code",
   "execution_count": 115,
   "id": "476e15bc-0767-44fc-af6f-f8907827d427",
   "metadata": {},
   "outputs": [
    {
     "name": "stderr",
     "output_type": "stream",
     "text": [
      "100%|██████████████████████████████████████████████████████████████████████████████████████████| 10/10 [00:00<?, ?it/s]\n"
     ]
    }
   ],
   "source": [
    "cipherdata_1mb = aes_ctr_cipher.encryptor().update(im1mb_padded)\n",
    "cipherdata_1mb_corrupted = corrupt_cipherdata(cipherdata_1mb, 10)"
   ]
  },
  {
   "cell_type": "code",
   "execution_count": 116,
   "id": "b92688bb-877e-4b7c-91ea-b50c58a54e31",
   "metadata": {},
   "outputs": [],
   "source": [
    "if not os.path.isdir('results/error_prop/ctr'):\n",
    "    os.mkdir('results/error_prop/ctr')"
   ]
  },
  {
   "cell_type": "code",
   "execution_count": 117,
   "id": "969bfdc4-093f-44f5-9ef0-3f7cbbc92921",
   "metadata": {},
   "outputs": [],
   "source": [
    "decrypted_1b_corrupted = decrypt_image(cipherdata_1mb_corrupted, lambda data: aes_ctr_cipher.decryptor().update(data))\n",
    "save_img('results/error_prop/ctr/1mb_corrupted.png', decrypted_1b_corrupted)"
   ]
  },
  {
   "cell_type": "code",
   "execution_count": null,
   "id": "f8adc6e0-1c7f-4f20-bfd8-064d64f932b0",
   "metadata": {},
   "outputs": [],
   "source": [
    "show_image(filename='results/error_prop/ctr/1mb_corrupted.png', width=200)"
   ]
  },
  {
   "cell_type": "markdown",
   "id": "01900d22-701d-4707-a6b3-d20d4fc9c39c",
   "metadata": {},
   "source": [
    "### Zapisanie zaszyfrowanego tuxa"
   ]
  },
  {
   "cell_type": "code",
   "execution_count": 119,
   "id": "ffa573b9-b593-4b1c-ac99-59bdfb2e3a97",
   "metadata": {},
   "outputs": [],
   "source": [
    "encrypted_img_data = np.frombuffer(cipherdata_1mb, dtype=np.uint8)[:img_data.size].reshape(img_data.shape)\n",
    "if not os.path.isdir(\"results/ctr\"):\n",
    "    os.mkdir(\"results/ctr\")\n",
    "encrypted_img = Image.fromarray(encrypted_img_data, 'RGBA')\n",
    "encrypted_img.save('results/ctr/1mb.png')"
   ]
  },
  {
   "cell_type": "code",
   "execution_count": null,
   "id": "b4e243bc-1d37-4c02-af78-ab6512365a7f",
   "metadata": {},
   "outputs": [],
   "source": [
    "show_image(filename='results/ctr/1mb.png', width=200)"
   ]
  },
  {
   "cell_type": "markdown",
   "id": "8332f826-caf3-437e-b6fa-fc8e69a7685d",
   "metadata": {},
   "source": [
    "> Czy błąd w szyfrogramie będzie skutkował niemożnością odczytania po deszyfrowaniucałej wiadomości, fragmentu?\n",
    "\n",
    "Odp: **Nie**. I to w żadnym trybie. W CBC można zakładać, że tak będzie, bo kolejne bloki są zależne od poprzednich, ale ani uszkodzenie bitów przed deszyfrowaniem i uszkodzenie bitów podczas szyfrowania symulując transmisje strumieniową nie powodują większych problemów. Maksymalnie problem ogranicza się do jednego bloku. Jest tak, bo kolejne bloki są już dobrze zaszyfrowane i dobrze odszyfrowane, bo sąsiednie bloki są poprawne."
   ]
  },
  {
   "cell_type": "code",
   "execution_count": null,
   "id": "cf939452-ca6f-4e17-b88f-2f5c386f661b",
   "metadata": {},
   "outputs": [],
   "source": []
  }
 ],
 "metadata": {
  "kernelspec": {
   "display_name": "Python 3 (ipykernel)",
   "language": "python",
   "name": "python3"
  },
  "language_info": {
   "codemirror_mode": {
    "name": "ipython",
    "version": 3
   },
   "file_extension": ".py",
   "mimetype": "text/x-python",
   "name": "python",
   "nbconvert_exporter": "python",
   "pygments_lexer": "ipython3",
   "version": "3.12.4"
  }
 },
 "nbformat": 4,
 "nbformat_minor": 5
}
