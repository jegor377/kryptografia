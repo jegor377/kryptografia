{
 "cells": [
  {
   "cell_type": "code",
   "execution_count": 1,
   "id": "f917c388-a6e9-4070-a802-0b259efa3bba",
   "metadata": {},
   "outputs": [],
   "source": [
    "from PIL import Image\n",
    "import numpy as np\n",
    "from tqdm import tqdm\n",
    "import random"
   ]
  },
  {
   "cell_type": "code",
   "execution_count": 2,
   "id": "7c4f4061-db6a-4b1a-9708-d10b8527befa",
   "metadata": {},
   "outputs": [],
   "source": [
    "img = np.array(Image.open('image.png').convert('RGBA'))"
   ]
  },
  {
   "cell_type": "code",
   "execution_count": 3,
   "id": "84227303-d34e-48ca-8def-64df8fa44002",
   "metadata": {},
   "outputs": [],
   "source": [
    "w, h, _ = img.shape"
   ]
  },
  {
   "cell_type": "code",
   "execution_count": 4,
   "id": "f7648937-eb07-4aa6-af91-fb07fab0c21d",
   "metadata": {},
   "outputs": [],
   "source": [
    "k = 150 # tajny klucz generatora pseudolosowego\n",
    "n = 30 # liczba naturalna n\n",
    "d = 5 # delta"
   ]
  },
  {
   "cell_type": "code",
   "execution_count": 5,
   "id": "6c67ae20-f578-4673-a1ca-ae87cf1da289",
   "metadata": {},
   "outputs": [],
   "source": [
    "def random_points(prng, w, h, n, e={}):\n",
    "    result = []\n",
    "    existing = e\n",
    "    for i in range(n):\n",
    "        new_point = (prng.randint(0, w - 1), prng.randint(0, h - 1))\n",
    "        while new_point in existing:\n",
    "            new_point = (prng.randint(0, w - 1), prng.randint(0, h - 1))\n",
    "        existing[new_point] = True\n",
    "        result.append(new_point)\n",
    "    return result, existing"
   ]
  },
  {
   "cell_type": "code",
   "execution_count": 6,
   "id": "f3625838-f74a-4eff-a308-80aaad324baf",
   "metadata": {},
   "outputs": [],
   "source": [
    "def change(array, delta):\n",
    "    for i in range(len(array) - 1):\n",
    "        array[i] = min(max(array[i] + delta, 0), 255)\n",
    "    return array"
   ]
  },
  {
   "cell_type": "markdown",
   "id": "0db34c7f-0447-4cf1-a9bd-a244695de188",
   "metadata": {},
   "source": [
    "# Osadzenie znaku wodnego"
   ]
  },
  {
   "cell_type": "code",
   "execution_count": 7,
   "id": "82a30c7e-b7af-4c68-bc66-8e4a2e7cc4d9",
   "metadata": {},
   "outputs": [],
   "source": [
    "def embed_watermark(mat, k, n, w, h):\n",
    "    prng = random.Random(k)\n",
    "    A, e1 = random_points(prng, w, h, n, {})\n",
    "    B, _ = random_points(prng, w, h, n, e1)\n",
    "    for (ax, ay), (bx, by) in zip(A, B):\n",
    "        mat[ax][ay] = change(mat[ax][ay], d)\n",
    "        mat[bx][by] = change(mat[bx][by], -d)\n",
    "    Sn = 2*d*n + sum([(mat[ax][ay].astype(dtype=np.int32) - mat[bx][by].astype(dtype=np.int32)).sum() for (ax, ay), (bx, by) in zip(A, B)])\n",
    "    return Sn, mat"
   ]
  },
  {
   "cell_type": "code",
   "execution_count": 8,
   "id": "9f0f88d0-e0da-410b-b1a3-0538dd0b8756",
   "metadata": {},
   "outputs": [],
   "source": [
    "Sn, img_with_watermark = embed_watermark(img, k, n, w, h)"
   ]
  },
  {
   "cell_type": "code",
   "execution_count": 9,
   "id": "949d8956-2d94-435f-9741-e458434ab85f",
   "metadata": {},
   "outputs": [
    {
     "data": {
      "text/plain": [
       "23"
      ]
     },
     "execution_count": 9,
     "metadata": {},
     "output_type": "execute_result"
    }
   ],
   "source": [
    "Sn"
   ]
  },
  {
   "cell_type": "code",
   "execution_count": 10,
   "id": "ae3d6e83-0fdd-40b9-a451-21d5544a8a07",
   "metadata": {},
   "outputs": [],
   "source": [
    "img_with_watermark2 = Image.fromarray(img_with_watermark, 'RGBA')\n",
    "img_with_watermark2.save(\"image with watermark.png\")"
   ]
  },
  {
   "cell_type": "markdown",
   "id": "c6eb33c9-e65d-48fa-8b9a-05b39c6ff2b9",
   "metadata": {},
   "source": [
    "# Detekcja znaku wodnego"
   ]
  },
  {
   "cell_type": "code",
   "execution_count": 11,
   "id": "435b6c65-dd2c-4e49-8088-f29105c2b522",
   "metadata": {},
   "outputs": [],
   "source": [
    "def detect_watermark(mat, k, n, w, h):\n",
    "    prng2 = random.Random(k)\n",
    "    Ap, e2 = random_points(prng2, w, h, n, {})\n",
    "    Bp, _ = random_points(prng2, w, h, n, e2)\n",
    "    for (ax, ay), (bx, by) in zip(Ap, Bp):\n",
    "        mat[ax][ay] = change(mat[ax][ay], -d)\n",
    "        mat[bx][by] = change(mat[bx][by], d)\n",
    "    Sn = sum([(mat[ax][ay].astype(dtype=np.int32) - mat[bx][by].astype(dtype=np.int32)).sum() for (ax, ay), (bx, by) in zip(Ap, Bp)])\n",
    "    return Sn"
   ]
  },
  {
   "cell_type": "code",
   "execution_count": 12,
   "id": "584c404b-6d9b-40a7-a459-1014e3249990",
   "metadata": {},
   "outputs": [
    {
     "data": {
      "text/plain": [
       "-1177"
      ]
     },
     "execution_count": 12,
     "metadata": {},
     "output_type": "execute_result"
    }
   ],
   "source": [
    "detect_watermark(img_with_watermark, k, n, w, h)"
   ]
  },
  {
   "cell_type": "markdown",
   "id": "c856b619-c2ba-4f7c-bd9f-995e47478abd",
   "metadata": {},
   "source": [
    "# Testy na ataki"
   ]
  },
  {
   "cell_type": "code",
   "execution_count": 13,
   "id": "41a6f4ae-f63b-48f1-a20e-aa432ba332de",
   "metadata": {},
   "outputs": [],
   "source": [
    "img2 = np.array(Image.open('image with watermark.png').convert('RGBA'))"
   ]
  },
  {
   "cell_type": "code",
   "execution_count": 14,
   "id": "02736d74-c3c0-4708-a535-0e1aa501551c",
   "metadata": {},
   "outputs": [
    {
     "data": {
      "text/plain": [
       "False"
      ]
     },
     "execution_count": 14,
     "metadata": {},
     "output_type": "execute_result"
    }
   ],
   "source": [
    "np.array_equal(img, img2)"
   ]
  },
  {
   "cell_type": "code",
   "execution_count": 15,
   "id": "38c76ab6-3210-4bbd-a044-c3ea4390b23f",
   "metadata": {},
   "outputs": [],
   "source": [
    "Sn = detect_watermark(img2, k, n, w, h)"
   ]
  },
  {
   "cell_type": "code",
   "execution_count": 16,
   "id": "b2eb9444-3a3a-4fff-a213-a9dabeb2cd0d",
   "metadata": {},
   "outputs": [
    {
     "data": {
      "text/plain": [
       "-1177"
      ]
     },
     "execution_count": 16,
     "metadata": {},
     "output_type": "execute_result"
    }
   ],
   "source": [
    "Sn"
   ]
  },
  {
   "cell_type": "code",
   "execution_count": 17,
   "id": "15d3e752-806b-4ce8-ae04-828c492e73de",
   "metadata": {},
   "outputs": [],
   "source": [
    "img3 = np.array(Image.open('image with watermark jpeg.jpg').convert('RGBA'))"
   ]
  },
  {
   "cell_type": "code",
   "execution_count": 18,
   "id": "5a485293",
   "metadata": {},
   "outputs": [
    {
     "data": {
      "text/plain": [
       "-1491"
      ]
     },
     "execution_count": 18,
     "metadata": {},
     "output_type": "execute_result"
    }
   ],
   "source": [
    "Sn = detect_watermark(img3, k, n, w, h)\n",
    "Sn"
   ]
  },
  {
   "cell_type": "code",
   "execution_count": 19,
   "id": "cccb909b-32be-4ae3-a318-2b575ff254e1",
   "metadata": {},
   "outputs": [],
   "source": [
    "img4 = np.array(Image.open('image with watermark gif.gif').convert('RGBA'))"
   ]
  },
  {
   "cell_type": "code",
   "execution_count": 20,
   "id": "6ce19d95-1587-4d1e-a71c-62683b064104",
   "metadata": {},
   "outputs": [
    {
     "data": {
      "text/plain": [
       "-1206"
      ]
     },
     "execution_count": 20,
     "metadata": {},
     "output_type": "execute_result"
    }
   ],
   "source": [
    "Sn = detect_watermark(img4, k, n, w, h)\n",
    "Sn"
   ]
  },
  {
   "cell_type": "code",
   "execution_count": 21,
   "id": "c0213d46-ee9d-44c5-a21c-9a67d0756975",
   "metadata": {},
   "outputs": [],
   "source": [
    "img5 = np.array(Image.open('image with watermark scaled.png').convert('RGBA'))"
   ]
  },
  {
   "cell_type": "code",
   "execution_count": 22,
   "id": "690c59de-573f-438b-8e5f-af69edd3c010",
   "metadata": {},
   "outputs": [
    {
     "data": {
      "text/plain": [
       "-1177"
      ]
     },
     "execution_count": 22,
     "metadata": {},
     "output_type": "execute_result"
    }
   ],
   "source": [
    "Sn = detect_watermark(img5, k, n, w, h)\n",
    "Sn"
   ]
  },
  {
   "cell_type": "code",
   "execution_count": 23,
   "id": "6c5e544e-06de-4529-b3e4-b891e51be76d",
   "metadata": {},
   "outputs": [],
   "source": [
    "img6 = np.array(Image.open('image with watermark changed color depth.png').convert('RGBA'))"
   ]
  },
  {
   "cell_type": "code",
   "execution_count": 24,
   "id": "413b18cf-bd2b-4787-8b14-675bc1239cac",
   "metadata": {},
   "outputs": [
    {
     "data": {
      "text/plain": [
       "-1136"
      ]
     },
     "execution_count": 24,
     "metadata": {},
     "output_type": "execute_result"
    }
   ],
   "source": [
    "Sn = detect_watermark(img6, k, n, w, h)\n",
    "Sn"
   ]
  },
  {
   "cell_type": "code",
   "execution_count": 25,
   "id": "59c0ecc3-e9c6-4cac-952e-f82b4d2f69ec",
   "metadata": {},
   "outputs": [
    {
     "data": {
      "text/plain": [
       "-1087"
      ]
     },
     "execution_count": 25,
     "metadata": {},
     "output_type": "execute_result"
    }
   ],
   "source": [
    "img7 = np.array(Image.open('image with watermark bmp to gif.gif').convert('RGBA'))\n",
    "Sn = detect_watermark(img7, k, n, w, h)\n",
    "Sn"
   ]
  },
  {
   "cell_type": "code",
   "execution_count": 26,
   "id": "8edfe03a-c787-4ffe-87bc-0a806368e60d",
   "metadata": {},
   "outputs": [
    {
     "data": {
      "text/plain": [
       "-776"
      ]
     },
     "execution_count": 26,
     "metadata": {},
     "output_type": "execute_result"
    }
   ],
   "source": [
    "img8 = np.array(Image.open('image with watermark modified.png').convert('RGBA'))\n",
    "Sn = detect_watermark(img8, k, n, w, h)\n",
    "Sn"
   ]
  },
  {
   "cell_type": "code",
   "execution_count": null,
   "id": "fe076038-e1a5-46a8-9608-a5393ef151f0",
   "metadata": {},
   "outputs": [],
   "source": []
  }
 ],
 "metadata": {
  "kernelspec": {
   "display_name": "Python 3 (ipykernel)",
   "language": "python",
   "name": "python3"
  },
  "language_info": {
   "codemirror_mode": {
    "name": "ipython",
    "version": 3
   },
   "file_extension": ".py",
   "mimetype": "text/x-python",
   "name": "python",
   "nbconvert_exporter": "python",
   "pygments_lexer": "ipython3",
   "version": "3.12.4"
  }
 },
 "nbformat": 4,
 "nbformat_minor": 5
}
