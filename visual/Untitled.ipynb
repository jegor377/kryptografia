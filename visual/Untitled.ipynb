{
 "cells": [
  {
   "cell_type": "code",
   "execution_count": 1,
   "id": "a5ed81be-dfc0-49bc-8df9-6fbce7a91fb2",
   "metadata": {},
   "outputs": [],
   "source": [
    "from PIL import Image\n",
    "import numpy as np\n",
    "from random import sample\n",
    "import numpy"
   ]
  },
  {
   "cell_type": "markdown",
   "id": "ec351f08-e645-4cdc-9261-10a7bcc624f4",
   "metadata": {},
   "source": [
    "# Wczytanie obrazu sekretu"
   ]
  },
  {
   "cell_type": "code",
   "execution_count": 2,
   "id": "e723d53e-7c70-46d0-8f92-748e6684b45c",
   "metadata": {},
   "outputs": [],
   "source": [
    "secret = np.array(Image.open('secret.png').convert('LA'))"
   ]
  },
  {
   "cell_type": "code",
   "execution_count": 3,
   "id": "1664acea-4f9a-492e-9aec-ae6593c92c2b",
   "metadata": {},
   "outputs": [
    {
     "data": {
      "text/plain": [
       "(100, 100, 2)"
      ]
     },
     "execution_count": 3,
     "metadata": {},
     "output_type": "execute_result"
    }
   ],
   "source": [
    "secret.shape"
   ]
  },
  {
   "cell_type": "code",
   "execution_count": 4,
   "id": "8ac28650-a8ac-43fd-88c2-fe56a4ae24fa",
   "metadata": {},
   "outputs": [],
   "source": [
    "w, h = secret.shape[:2]"
   ]
  },
  {
   "cell_type": "markdown",
   "id": "99739089-7a62-40de-b485-259b0812d558",
   "metadata": {},
   "source": [
    "# Przygotowanie macierzy kolorów (C0 - \"biały\", C1 - \"czarny\")"
   ]
  },
  {
   "cell_type": "code",
   "execution_count": 5,
   "id": "39b693a7-30b5-4304-8f28-f34f09f0e6bd",
   "metadata": {},
   "outputs": [],
   "source": [
    "# 1 - czarny, 0 - przezroczysty"
   ]
  },
  {
   "cell_type": "code",
   "execution_count": 6,
   "id": "4b44fd5f-6a2c-4e36-9559-bf6a406f733d",
   "metadata": {},
   "outputs": [],
   "source": [
    "C0 = [\n",
    "    [\n",
    "        [[0,0],\n",
    "         [1,1]],\n",
    "        [[0,0],\n",
    "         [1,1]]\n",
    "    ],\n",
    "    [\n",
    "        [[1,1],\n",
    "         [0,0]],\n",
    "        [[1,1],\n",
    "         [0,0]]\n",
    "    ],\n",
    "    [\n",
    "        [[0,1],\n",
    "         [0,1]],\n",
    "        [[0,1],\n",
    "         [0,1]]\n",
    "    ],\n",
    "    [\n",
    "        [[1,0],\n",
    "         [1,0]],\n",
    "        [[1,0],\n",
    "         [1,0]]\n",
    "    ],\n",
    "    [\n",
    "        [[0,1],\n",
    "         [1,0]],\n",
    "        [[0,1],\n",
    "         [1,0]]\n",
    "    ],\n",
    "    [\n",
    "        [[1,0],\n",
    "         [0,1]],\n",
    "        [[1,0],\n",
    "         [0,1]]\n",
    "    ]\n",
    "]"
   ]
  },
  {
   "cell_type": "code",
   "execution_count": 7,
   "id": "f267aa6e-0c2b-4260-8d21-9f758ffe35c8",
   "metadata": {},
   "outputs": [],
   "source": [
    "C1 = [\n",
    "    [\n",
    "        [[0,0],\n",
    "         [1,1]],\n",
    "        [[1,1],\n",
    "         [0,0]]\n",
    "    ],\n",
    "    [\n",
    "        [[1,1],\n",
    "         [0,0]],\n",
    "        [[0,0],\n",
    "         [1,1]]\n",
    "    ],\n",
    "    [\n",
    "        [[0,1],\n",
    "         [0,1]],\n",
    "        [[1,0],\n",
    "         [1,0]]\n",
    "    ],\n",
    "    [\n",
    "        [[1,0],\n",
    "         [1,0]],\n",
    "        [[0,1],\n",
    "         [0,1]]\n",
    "    ],\n",
    "    [\n",
    "        [[0,1],\n",
    "         [1,0]],\n",
    "        [[1,0],\n",
    "         [0,1]]\n",
    "    ],\n",
    "    [\n",
    "        [[1,0],\n",
    "         [0,1]],\n",
    "        [[0,1],\n",
    "         [1,0]]\n",
    "    ]\n",
    "]"
   ]
  },
  {
   "cell_type": "markdown",
   "id": "2417e252-8131-4c1e-b9b3-2fdb19cf5f83",
   "metadata": {},
   "source": [
    "# Przygotowanie udziałów"
   ]
  },
  {
   "cell_type": "code",
   "execution_count": 8,
   "id": "f4629f8f-ecfd-429b-ae38-f9dba20197ae",
   "metadata": {},
   "outputs": [],
   "source": [
    "s1 = np.zeros(shape=(w*2,h*2,2), dtype=np.uint8)"
   ]
  },
  {
   "cell_type": "code",
   "execution_count": 9,
   "id": "dc242385-23da-40ad-9e52-b73c86af2b62",
   "metadata": {},
   "outputs": [],
   "source": [
    "s2 = np.zeros(shape=(w*2,h*2,2), dtype=np.uint8)"
   ]
  },
  {
   "cell_type": "code",
   "execution_count": 10,
   "id": "40c782a4-9872-42f9-9572-df84f0a0de0c",
   "metadata": {},
   "outputs": [],
   "source": [
    "for x in range(w):\n",
    "    for y in range(h):\n",
    "        # sprawdzenie czy piksel jest przezroczysty\n",
    "        is_transparent = bool(secret[x][y][1] == 0)\n",
    "        # wybór tablicy \"białych\" lub \"czarnych\" subpikseli zależnie od tego czy piksel jest przezroczysty\n",
    "        subpixels_pair = sample(C0 if is_transparent else C1, 1)[0]\n",
    "        # dla każdego piksela z macierzy subpikseli ustawiamy piksele w macierzach udziałów\n",
    "        for xs in range(2):\n",
    "            for ys in range(2):\n",
    "                # maksymalna jasność piksela (kanał przezroczystości) jeśli wartość subpiksela = 1 a w przeciwnym razie minimalna\n",
    "                s1[2 * x + xs][2 * y + ys][1] = 255 if subpixels_pair[0][xs][ys] == 1 else 0\n",
    "                s2[2 * x + xs][2 * y + ys][1] = 255 if subpixels_pair[1][xs][ys] == 1 else 0"
   ]
  },
  {
   "cell_type": "code",
   "execution_count": 11,
   "id": "ebfb95cd-58c4-43a4-b12e-46fcd5053039",
   "metadata": {},
   "outputs": [],
   "source": [
    "s1 = Image.fromarray(s1, 'LA')"
   ]
  },
  {
   "cell_type": "code",
   "execution_count": 12,
   "id": "2d50c1c4-bf23-4fa1-8a8f-80e65909c61a",
   "metadata": {},
   "outputs": [],
   "source": [
    "s2 = Image.fromarray(s2, 'LA')"
   ]
  },
  {
   "cell_type": "code",
   "execution_count": 13,
   "id": "c652be28-b2ba-4cc9-b1b5-9e9bb05eacfe",
   "metadata": {},
   "outputs": [
    {
     "data": {
      "image/png": "[encoded data removed]",
      "text/plain": [
       "<PIL.Image.Image image mode=LA size=200x200>"
      ]
     },
     "execution_count": 13,
     "metadata": {},
     "output_type": "execute_result"
    }
   ],
   "source": [
    "s1"
   ]
  },
  {
   "cell_type": "code",
   "execution_count": 14,
   "id": "9899cfdc-4db2-47fb-b6c2-3445e4a8a730",
   "metadata": {},
   "outputs": [
    {
     "data": {
      "image/png": "[encoded data removed]",
      "text/plain": [
       "<PIL.Image.Image image mode=LA size=200x200>"
      ]
     },
     "execution_count": 14,
     "metadata": {},
     "output_type": "execute_result"
    }
   ],
   "source": [
    "s2"
   ]
  },
  {
   "cell_type": "markdown",
   "id": "bcf39c3c-7057-4dc2-942d-8e1115b19392",
   "metadata": {},
   "source": [
    "# Złączanie udziałów aby zobaczyć wynik"
   ]
  },
  {
   "cell_type": "code",
   "execution_count": 15,
   "id": "5de64104-8e76-4a62-ab40-3ea33db6d03f",
   "metadata": {},
   "outputs": [],
   "source": [
    "img2 = Image.new(\"LA\", (2*w, 2*h), \"white\")"
   ]
  },
  {
   "cell_type": "code",
   "execution_count": 16,
   "id": "598d8235-30fb-4410-ae52-9a686881b294",
   "metadata": {},
   "outputs": [],
   "source": [
    "img2.paste(s1, (0, 0), s1)\n",
    "img2.paste(s2, (0, 0), s2)"
   ]
  },
  {
   "cell_type": "code",
   "execution_count": 17,
   "id": "f6951034-a034-4666-946a-35604bc44742",
   "metadata": {},
   "outputs": [
    {
     "data": {
      "image/png": "[encoded data removed]",
      "text/plain": [
       "<PIL.Image.Image image mode=LA size=200x200>"
      ]
     },
     "execution_count": 17,
     "metadata": {},
     "output_type": "execute_result"
    }
   ],
   "source": [
    "img2"
   ]
  },
  {
   "cell_type": "markdown",
   "id": "ce3c28cf-8b0c-4f89-bb44-e0c96fa29c96",
   "metadata": {},
   "source": [
    "# Zapisanie udziałów na dysku"
   ]
  },
  {
   "cell_type": "code",
   "execution_count": 18,
   "id": "0c153ed6-6061-49f4-b3c1-a2665894b005",
   "metadata": {},
   "outputs": [],
   "source": [
    "s1.save(\"s1.png\")"
   ]
  },
  {
   "cell_type": "code",
   "execution_count": 19,
   "id": "742c76dd-801b-4c90-89fe-72d3dab0f9a2",
   "metadata": {},
   "outputs": [],
   "source": [
    "s2.save(\"s2.png\")"
   ]
  },
  {
   "cell_type": "code",
   "execution_count": null,
   "id": "72222036-b418-4ab3-ba21-40166432180f",
   "metadata": {},
   "outputs": [],
   "source": []
  }
 ],
 "metadata": {
  "kernelspec": {
   "display_name": "Python 3 (ipykernel)",
   "language": "python",
   "name": "python3"
  },
  "language_info": {
   "codemirror_mode": {
    "name": "ipython",
    "version": 3
   },
   "file_extension": ".py",
   "mimetype": "text/x-python",
   "name": "python",
   "nbconvert_exporter": "python",
   "pygments_lexer": "ipython3",
   "version": "3.12.4"
  }
 },
 "nbformat": 4,
 "nbformat_minor": 5
}
